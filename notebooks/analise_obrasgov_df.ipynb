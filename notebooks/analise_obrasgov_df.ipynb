{
 "cells": [
  {
   "cell_type": "markdown",
   "metadata": {},
   "source": [
    "# Análise de Projetos de Investimento - ObrasGov Distrito Federal\n",
    "\n",
    "## Contexto do Projeto\n",
    "\n",
    "Este notebook demonstra a implementação completa de um **pipeline ETL (Extract, Transform, Load)** para análise de dados de projetos de investimento do Distrito Federal, utilizando dados da API ObrasGov.\n",
    "\n",
    "### Arquitetura Implementada\n",
    "\n",
    "```\n",
    "API ObrasGov → FastAPI → PostgreSQL → Análise (Jupyter/Streamlit)\n",
    "     ↓            ↓          ↓              ↓\n",
    "  Extração   Processamento  Storage    Visualização\n",
    "```\n",
    "\n",
    "### Tecnologias Utilizadas\n",
    "\n",
    "- **Backend**: FastAPI + SQLAlchemy + PostgreSQL\n",
    "- **Análise**: Pandas + NumPy\n",
    "- **Visualização**: Plotly + Matplotlib + Seaborn\n",
    "- **Infraestrutura**: Docker + Docker Compose\n",
    "\n",
    "### Objetivo\n",
    "\n",
    "Demonstrar conhecimento em:\n",
    "1. Extração de dados via API REST\n",
    "2. Processamento e normalização de dados\n",
    "3. Armazenamento em banco relacional\n",
    "4. Análise exploratória de dados\n",
    "5. Visualização de insights\n",
    "6. Arquitetura de software"
   ]
  },
  {
   "cell_type": "markdown",
   "source": "> **Nota**: Este Jupyter Notebook foi criado para cumprir os requisitos propostos no desafio. No entanto, todas as análises, visualizações e informações apresentadas aqui estão disponíveis (e melhor rs) no **Dashboard Streamlit**.\n>\n> **Acesse o Streamlit**: [http://localhost:8501](http://localhost:8501)\n>\n> O Streamlit oferece:\n> - Interface interativa e responsiva\n> - Filtros dinâmicos em tempo real\n> - Navegação facilitada entre seções\n> - Visualizações otimizadas\n> - Busca e exploração de dados simplificada\n>\n> Este notebook permanece disponível para quem preferir análises célula-por-célula ou quiser explorar o código Python diretamente.",
   "metadata": {}
  },
  {
   "cell_type": "markdown",
   "metadata": {},
   "source": [
    "## 1. Configuração e Imports"
   ]
  },
  {
   "cell_type": "code",
   "execution_count": null,
   "metadata": {},
   "outputs": [],
   "source": "import sys\nimport os\nimport warnings\nwarnings.filterwarnings('ignore')\n\nsys.path.append(os.path.dirname(os.path.abspath('')))\n\nimport pandas as pd\nimport numpy as np\nimport matplotlib.pyplot as plt\nimport seaborn as sns\nimport plotly.express as px\nimport plotly.graph_objects as go\n\nfrom analysis import DataLoader, Normalizador, Analisador, Visualizador\n\nplt.style.use('seaborn-v0_8-darkgrid')\nsns.set_palette(\"husl\")\n\npd.set_option('display.max_columns', None)\npd.set_option('display.max_rows', 100)\npd.set_option('display.float_format', lambda x: f'{x:,.2f}')\n\nprint(\"Imports concluídos com sucesso!\")\nprint(f\"Pandas versão: {pd.__version__}\")\nprint(f\"NumPy versão: {np.__version__}\")"
  },
  {
   "cell_type": "markdown",
   "metadata": {},
   "source": [
    "## 2. Extração de Dados\n",
    "\n",
    "### 2.1 Conexão com o Banco de Dados\n",
    "\n",
    "O sistema utiliza PostgreSQL rodando em Docker (porta 5455). Os dados foram previamente extraídos da API ObrasGov e armazenados no banco através do endpoint `/sync` da API FastAPI.\n",
    "\n",
    "**Implementação do cliente API** (`api/services/obrasgov_client.py`):\n",
    "- Paginação automática\n",
    "- Rate limiting inteligente\n",
    "- Retry automático em caso de falhas\n",
    "- Async generator para eficiência de memória"
   ]
  },
  {
   "cell_type": "code",
   "execution_count": null,
   "metadata": {},
   "outputs": [],
   "source": "loader = DataLoader()\n\nprint(\"Conectando ao banco de dados PostgreSQL...\")\nprint(\"Configuração:\")\nprint(\"  - Host: localhost\")\nprint(\"  - Porta: 5455\")\nprint(\"  - Database: obrasgov_db\")\nprint(\"\\nConexão estabelecida com sucesso!\")"
  },
  {
   "cell_type": "markdown",
   "metadata": {},
   "source": [
    "### 2.2 Carregamento dos Dados"
   ]
  },
  {
   "cell_type": "code",
   "execution_count": 5,
   "metadata": {},
   "outputs": [
    {
     "name": "stdout",
     "output_type": "stream",
     "text": [
      "\n",
      "Dados carregados com sucesso!\n",
      "  - Total de registros: 100\n",
      "  - Total de colunas: 27\n",
      "  - Memória utilizada: 0.22 MB\n"
     ]
    },
    {
     "data": {
      "text/html": [
       "<div>\n",
       "<style scoped>\n",
       "    .dataframe tbody tr th:only-of-type {\n",
       "        vertical-align: middle;\n",
       "    }\n",
       "\n",
       "    .dataframe tbody tr th {\n",
       "        vertical-align: top;\n",
       "    }\n",
       "\n",
       "    .dataframe thead th {\n",
       "        text-align: right;\n",
       "    }\n",
       "</style>\n",
       "<table border=\"1\" class=\"dataframe\">\n",
       "  <thead>\n",
       "    <tr style=\"text-align: right;\">\n",
       "      <th></th>\n",
       "      <th>id</th>\n",
       "      <th>id_unico</th>\n",
       "      <th>nome</th>\n",
       "      <th>cep</th>\n",
       "      <th>endereco</th>\n",
       "      <th>descricao</th>\n",
       "      <th>funcao_social</th>\n",
       "      <th>meta_global</th>\n",
       "      <th>data_inicial_prevista</th>\n",
       "      <th>data_final_prevista</th>\n",
       "      <th>data_inicial_efetiva</th>\n",
       "      <th>data_final_efetiva</th>\n",
       "      <th>data_cadastro</th>\n",
       "      <th>data_situacao</th>\n",
       "      <th>especie</th>\n",
       "      <th>natureza</th>\n",
       "      <th>natureza_outras</th>\n",
       "      <th>situacao</th>\n",
       "      <th>desc_plano_nacional_politica_vinculado</th>\n",
       "      <th>uf</th>\n",
       "      <th>qdt_empregos_gerados</th>\n",
       "      <th>desc_populacao_beneficiada</th>\n",
       "      <th>populacao_beneficiada</th>\n",
       "      <th>observacoes_pertinentes</th>\n",
       "      <th>is_modelada_por_bim</th>\n",
       "      <th>created_at</th>\n",
       "      <th>updated_at</th>\n",
       "    </tr>\n",
       "  </thead>\n",
       "  <tbody>\n",
       "    <tr>\n",
       "      <th>0</th>\n",
       "      <td>1</td>\n",
       "      <td>50379.53-54</td>\n",
       "      <td>DL - 304/2024 - Contratação de instituição par...</td>\n",
       "      <td>None</td>\n",
       "      <td>None</td>\n",
       "      <td>Contratação de instituição para execução de se...</td>\n",
       "      <td>Ampliação da capacidade de trafego visando a m...</td>\n",
       "      <td>Projetos Básicos e Executivos de Engenharia</td>\n",
       "      <td>2024-12-20</td>\n",
       "      <td>2027-12-05</td>\n",
       "      <td>None</td>\n",
       "      <td>None</td>\n",
       "      <td>2024-12-20</td>\n",
       "      <td>2024-12-20</td>\n",
       "      <td>Construção</td>\n",
       "      <td>Outros</td>\n",
       "      <td>CONSULTORIA</td>\n",
       "      <td>Cadastrada</td>\n",
       "      <td>None</td>\n",
       "      <td>DF</td>\n",
       "      <td>None</td>\n",
       "      <td>None</td>\n",
       "      <td>None</td>\n",
       "      <td>None</td>\n",
       "      <td>False</td>\n",
       "      <td>2025-10-20 19:04:50.479415</td>\n",
       "      <td>2025-10-20 19:04:50.479419</td>\n",
       "    </tr>\n",
       "    <tr>\n",
       "      <th>1</th>\n",
       "      <td>2</td>\n",
       "      <td>42724.53-27</td>\n",
       "      <td>Escola Classe Crixá São Sebastião</td>\n",
       "      <td>None</td>\n",
       "      <td>None</td>\n",
       "      <td>Construção de Escola em Tempo Integral, Escola...</td>\n",
       "      <td>A construção da nova escola beneficiará 977 es...</td>\n",
       "      <td>Construção de Escola em Tempo Integral, Escola...</td>\n",
       "      <td>2024-09-02</td>\n",
       "      <td>2028-09-02</td>\n",
       "      <td>None</td>\n",
       "      <td>None</td>\n",
       "      <td>2024-08-30</td>\n",
       "      <td>2025-09-05</td>\n",
       "      <td>Construção</td>\n",
       "      <td>Obra</td>\n",
       "      <td>None</td>\n",
       "      <td>Cancelada</td>\n",
       "      <td>None</td>\n",
       "      <td>DF</td>\n",
       "      <td>30</td>\n",
       "      <td>A população diretamente beneficiada pela EC Cr...</td>\n",
       "      <td>385</td>\n",
       "      <td>None</td>\n",
       "      <td>False</td>\n",
       "      <td>2025-10-20 19:04:50.552746</td>\n",
       "      <td>2025-10-20 19:04:50.552752</td>\n",
       "    </tr>\n",
       "    <tr>\n",
       "      <th>2</th>\n",
       "      <td>3</td>\n",
       "      <td>19970.53-78</td>\n",
       "      <td>Reajuste do Contrato 45/2021 - Contrução do Ce...</td>\n",
       "      <td>70.602-600</td>\n",
       "      <td>SAIS Área Especial 3, Setor Policial Sul</td>\n",
       "      <td>Reajuste do Contrato 45/2021 - Construção do C...</td>\n",
       "      <td>Contribuir para a melhor formação dos bombeiro...</td>\n",
       "      <td>Construção de um novo centro de formação e de ...</td>\n",
       "      <td>2021-09-14</td>\n",
       "      <td>2024-08-28</td>\n",
       "      <td>None</td>\n",
       "      <td>None</td>\n",
       "      <td>2023-02-06</td>\n",
       "      <td>2023-02-06</td>\n",
       "      <td>Construção</td>\n",
       "      <td>Obra</td>\n",
       "      <td>None</td>\n",
       "      <td>Cadastrada</td>\n",
       "      <td>None</td>\n",
       "      <td>DF</td>\n",
       "      <td>None</td>\n",
       "      <td>None</td>\n",
       "      <td>None</td>\n",
       "      <td>None</td>\n",
       "      <td>False</td>\n",
       "      <td>2025-10-20 19:04:50.576092</td>\n",
       "      <td>2025-10-20 19:04:50.576096</td>\n",
       "    </tr>\n",
       "    <tr>\n",
       "      <th>3</th>\n",
       "      <td>4</td>\n",
       "      <td>24797.53-15</td>\n",
       "      <td>Implantação de Passarelas nas Estradas Parque ...</td>\n",
       "      <td>None</td>\n",
       "      <td>None</td>\n",
       "      <td>Implantação de passarelas de estrutura mista n...</td>\n",
       "      <td>Pedestres, no geral, demanda das ocupações lin...</td>\n",
       "      <td>Implantação de passarelas de estrutura mista n...</td>\n",
       "      <td>2023-08-30</td>\n",
       "      <td>2028-08-30</td>\n",
       "      <td>None</td>\n",
       "      <td>None</td>\n",
       "      <td>2023-08-28</td>\n",
       "      <td>2023-08-28</td>\n",
       "      <td>Construção</td>\n",
       "      <td>Obra</td>\n",
       "      <td>None</td>\n",
       "      <td>Cadastrada</td>\n",
       "      <td>None</td>\n",
       "      <td>DF</td>\n",
       "      <td>None</td>\n",
       "      <td>Pedestres que moram nas regiões de Planaltina,...</td>\n",
       "      <td>None</td>\n",
       "      <td>None</td>\n",
       "      <td>False</td>\n",
       "      <td>2025-10-20 19:04:50.615363</td>\n",
       "      <td>2025-10-20 19:04:50.615378</td>\n",
       "    </tr>\n",
       "    <tr>\n",
       "      <th>4</th>\n",
       "      <td>5</td>\n",
       "      <td>24822.53-70</td>\n",
       "      <td>obra de construção da  Cabine de Medição, loca...</td>\n",
       "      <td>None</td>\n",
       "      <td>None</td>\n",
       "      <td>obra de construção da  Cabine de Medição, loca...</td>\n",
       "      <td>A demanda de carga elétrica do Campus Darcy Ri...</td>\n",
       "      <td>A demanda de carga elétrica do Campus Darcy Ri...</td>\n",
       "      <td>2023-09-14</td>\n",
       "      <td>2024-03-14</td>\n",
       "      <td>None</td>\n",
       "      <td>None</td>\n",
       "      <td>2023-08-29</td>\n",
       "      <td>2023-08-29</td>\n",
       "      <td>Construção</td>\n",
       "      <td>Obra</td>\n",
       "      <td>None</td>\n",
       "      <td>Cadastrada</td>\n",
       "      <td>None</td>\n",
       "      <td>DF</td>\n",
       "      <td>None</td>\n",
       "      <td>None</td>\n",
       "      <td>None</td>\n",
       "      <td>None</td>\n",
       "      <td>False</td>\n",
       "      <td>2025-10-20 19:04:50.670709</td>\n",
       "      <td>2025-10-20 19:04:50.670713</td>\n",
       "    </tr>\n",
       "  </tbody>\n",
       "</table>\n",
       "</div>"
      ],
      "text/plain": [
       "   id     id_unico                                               nome  \\\n",
       "0   1  50379.53-54  DL - 304/2024 - Contratação de instituição par...   \n",
       "1   2  42724.53-27                  Escola Classe Crixá São Sebastião   \n",
       "2   3  19970.53-78  Reajuste do Contrato 45/2021 - Contrução do Ce...   \n",
       "3   4  24797.53-15  Implantação de Passarelas nas Estradas Parque ...   \n",
       "4   5  24822.53-70  obra de construção da  Cabine de Medição, loca...   \n",
       "\n",
       "          cep                                  endereco  \\\n",
       "0        None                                      None   \n",
       "1        None                                      None   \n",
       "2  70.602-600  SAIS Área Especial 3, Setor Policial Sul   \n",
       "3        None                                      None   \n",
       "4        None                                      None   \n",
       "\n",
       "                                           descricao  \\\n",
       "0  Contratação de instituição para execução de se...   \n",
       "1  Construção de Escola em Tempo Integral, Escola...   \n",
       "2  Reajuste do Contrato 45/2021 - Construção do C...   \n",
       "3  Implantação de passarelas de estrutura mista n...   \n",
       "4  obra de construção da  Cabine de Medição, loca...   \n",
       "\n",
       "                                       funcao_social  \\\n",
       "0  Ampliação da capacidade de trafego visando a m...   \n",
       "1  A construção da nova escola beneficiará 977 es...   \n",
       "2  Contribuir para a melhor formação dos bombeiro...   \n",
       "3  Pedestres, no geral, demanda das ocupações lin...   \n",
       "4  A demanda de carga elétrica do Campus Darcy Ri...   \n",
       "\n",
       "                                         meta_global data_inicial_prevista  \\\n",
       "0        Projetos Básicos e Executivos de Engenharia            2024-12-20   \n",
       "1  Construção de Escola em Tempo Integral, Escola...            2024-09-02   \n",
       "2  Construção de um novo centro de formação e de ...            2021-09-14   \n",
       "3  Implantação de passarelas de estrutura mista n...            2023-08-30   \n",
       "4  A demanda de carga elétrica do Campus Darcy Ri...            2023-09-14   \n",
       "\n",
       "  data_final_prevista data_inicial_efetiva data_final_efetiva data_cadastro  \\\n",
       "0          2027-12-05                 None               None    2024-12-20   \n",
       "1          2028-09-02                 None               None    2024-08-30   \n",
       "2          2024-08-28                 None               None    2023-02-06   \n",
       "3          2028-08-30                 None               None    2023-08-28   \n",
       "4          2024-03-14                 None               None    2023-08-29   \n",
       "\n",
       "  data_situacao     especie natureza natureza_outras    situacao  \\\n",
       "0    2024-12-20  Construção   Outros     CONSULTORIA  Cadastrada   \n",
       "1    2025-09-05  Construção     Obra            None   Cancelada   \n",
       "2    2023-02-06  Construção     Obra            None  Cadastrada   \n",
       "3    2023-08-28  Construção     Obra            None  Cadastrada   \n",
       "4    2023-08-29  Construção     Obra            None  Cadastrada   \n",
       "\n",
       "  desc_plano_nacional_politica_vinculado  uf qdt_empregos_gerados  \\\n",
       "0                                   None  DF                 None   \n",
       "1                                   None  DF                   30   \n",
       "2                                   None  DF                 None   \n",
       "3                                   None  DF                 None   \n",
       "4                                   None  DF                 None   \n",
       "\n",
       "                          desc_populacao_beneficiada populacao_beneficiada  \\\n",
       "0                                               None                  None   \n",
       "1  A população diretamente beneficiada pela EC Cr...                   385   \n",
       "2                                               None                  None   \n",
       "3  Pedestres que moram nas regiões de Planaltina,...                  None   \n",
       "4                                               None                  None   \n",
       "\n",
       "  observacoes_pertinentes  is_modelada_por_bim                 created_at  \\\n",
       "0                    None                False 2025-10-20 19:04:50.479415   \n",
       "1                    None                False 2025-10-20 19:04:50.552746   \n",
       "2                    None                False 2025-10-20 19:04:50.576092   \n",
       "3                    None                False 2025-10-20 19:04:50.615363   \n",
       "4                    None                False 2025-10-20 19:04:50.670709   \n",
       "\n",
       "                  updated_at  \n",
       "0 2025-10-20 19:04:50.479419  \n",
       "1 2025-10-20 19:04:50.552752  \n",
       "2 2025-10-20 19:04:50.576096  \n",
       "3 2025-10-20 19:04:50.615378  \n",
       "4 2025-10-20 19:04:50.670713  "
      ]
     },
     "execution_count": 5,
     "metadata": {},
     "output_type": "execute_result"
    }
   ],
   "source": [
    "df_raw = loader.load_projetos()\n",
    "\n",
    "print(f\"\\nDados carregados com sucesso!\")\n",
    "print(f\"  - Total de registros: {len(df_raw):,}\")\n",
    "print(f\"  - Total de colunas: {len(df_raw.columns)}\")\n",
    "print(f\"  - Memória utilizada: {df_raw.memory_usage(deep=True).sum() / 1024**2:.2f} MB\")\n",
    "\n",
    "df_raw.head()"
   ]
  },
  {
   "cell_type": "markdown",
   "metadata": {},
   "source": [
    "## 3. Exploração Inicial dos Dados\n",
    "\n",
    "### 3.1 Informações Gerais"
   ]
  },
  {
   "cell_type": "code",
   "execution_count": 6,
   "metadata": {},
   "outputs": [
    {
     "name": "stdout",
     "output_type": "stream",
     "text": [
      "================================================================================\n",
      "INFORMAÇÕES DO DATASET\n",
      "================================================================================\n",
      "<class 'pandas.core.frame.DataFrame'>\n",
      "RangeIndex: 100 entries, 0 to 99\n",
      "Data columns (total 27 columns):\n",
      " #   Column                                  Non-Null Count  Dtype         \n",
      "---  ------                                  --------------  -----         \n",
      " 0   id                                      100 non-null    int64         \n",
      " 1   id_unico                                100 non-null    object        \n",
      " 2   nome                                    100 non-null    object        \n",
      " 3   cep                                     68 non-null     object        \n",
      " 4   endereco                                70 non-null     object        \n",
      " 5   descricao                               100 non-null    object        \n",
      " 6   funcao_social                           100 non-null    object        \n",
      " 7   meta_global                             100 non-null    object        \n",
      " 8   data_inicial_prevista                   99 non-null     object        \n",
      " 9   data_final_prevista                     99 non-null     object        \n",
      " 10  data_inicial_efetiva                    0 non-null      object        \n",
      " 11  data_final_efetiva                      0 non-null      object        \n",
      " 12  data_cadastro                           100 non-null    object        \n",
      " 13  data_situacao                           100 non-null    object        \n",
      " 14  especie                                 99 non-null     object        \n",
      " 15  natureza                                100 non-null    object        \n",
      " 16  natureza_outras                         45 non-null     object        \n",
      " 17  situacao                                100 non-null    object        \n",
      " 18  desc_plano_nacional_politica_vinculado  37 non-null     object        \n",
      " 19  uf                                      100 non-null    object        \n",
      " 20  qdt_empregos_gerados                    5 non-null      object        \n",
      " 21  desc_populacao_beneficiada              7 non-null      object        \n",
      " 22  populacao_beneficiada                   5 non-null      object        \n",
      " 23  observacoes_pertinentes                 2 non-null      object        \n",
      " 24  is_modelada_por_bim                     100 non-null    bool          \n",
      " 25  created_at                              100 non-null    datetime64[ns]\n",
      " 26  updated_at                              100 non-null    datetime64[ns]\n",
      "dtypes: bool(1), datetime64[ns](2), int64(1), object(23)\n",
      "memory usage: 20.5+ KB\n"
     ]
    }
   ],
   "source": [
    "print(\"=\" * 80)\n",
    "print(\"INFORMAÇÕES DO DATASET\")\n",
    "print(\"=\" * 80)\n",
    "\n",
    "df_raw.info()"
   ]
  },
  {
   "cell_type": "markdown",
   "metadata": {},
   "source": [
    "### 3.2 Diagnóstico de Qualidade\n",
    "\n",
    "Utilizando a classe `Normalizador` para detectar problemas nos dados:"
   ]
  },
  {
   "cell_type": "code",
   "execution_count": null,
   "metadata": {},
   "outputs": [],
   "source": "diagnostico = Normalizador.diagnosticar_problemas(df_raw)\n\nprint(\"\\n\" + \"=\" * 80)\nprint(\"DIAGNÓSTICO DE QUALIDADE DOS DADOS\")\nprint(\"=\" * 80)\n\nprint(f\"\\nResumo Geral:\")\nprint(f\"  - Total de linhas: {diagnostico['total_linhas']:,}\")\nprint(f\"  - Total de colunas: {diagnostico['total_colunas']}\")\nprint(f\"  - Duplicatas: {diagnostico['duplicatas']}\")\nprint(f\"  - Memória (MB): {diagnostico['memoria_mb']:.2f}\")\n\nif diagnostico['colunas_com_nulos']:\n    print(f\"\\nColunas com valores nulos:\")\n    for col, info in diagnostico['colunas_com_nulos'].items():\n        print(f\"  - {col}: {info['total_nulos']} nulos ({info['percentual']}%)\")\nelse:\n    print(\"\\nNenhum valor nulo encontrado!\")"
  },
  {
   "cell_type": "markdown",
   "metadata": {},
   "source": [
    "### 3.3 Visualização de Valores Nulos"
   ]
  },
  {
   "cell_type": "code",
   "execution_count": null,
   "metadata": {},
   "outputs": [],
   "source": "if diagnostico['colunas_com_nulos']:\n    nulos_data = []\n    for col, info in diagnostico['colunas_com_nulos'].items():\n        nulos_data.append({\n            'Coluna': col,\n            'Total Nulos': info['total_nulos'],\n            'Percentual': info['percentual']\n        })\n    \n    df_nulos = pd.DataFrame(nulos_data).sort_values('Total Nulos', ascending=False)\n    \n    fig = px.bar(\n        df_nulos,\n        x='Coluna',\n        y='Total Nulos',\n        title='Valores Nulos por Coluna',\n        labels={'Total Nulos': 'Quantidade de Nulos'},\n        color='Percentual',\n        color_continuous_scale='Reds'\n    )\n    fig.update_layout(height=500, xaxis_tickangle=-45)\n    fig.show()\n    \n    display(df_nulos)\nelse:\n    print(\"Nenhum valor nulo para visualizar!\")"
  },
  {
   "cell_type": "markdown",
   "metadata": {},
   "source": [
    "## 4. Tratamento e Normalização dos Dados\n",
    "\n",
    "### 4.1 Aplicação do Pipeline de Normalização\n",
    "\n",
    "A classe `Normalizador` implementa:\n",
    "- Conversão de tipos de dados\n",
    "- Normalização de datas\n",
    "- Tratamento de valores monetários\n",
    "- Criação de colunas derivadas (ano, mês, etc.)"
   ]
  },
  {
   "cell_type": "code",
   "execution_count": null,
   "metadata": {},
   "outputs": [],
   "source": "print(\"Aplicando pipeline de normalização...\\n\")\n\ndf = Normalizador.normalizar_completo(df_raw)\n\nprint(\"Normalização concluída!\")\nprint(f\"\\nNovas colunas criadas:\")\nnovas_colunas = set(df.columns) - set(df_raw.columns)\nfor col in sorted(novas_colunas):\n    print(f\"  - {col}\")\n\ndf.head()"
  },
  {
   "cell_type": "markdown",
   "metadata": {},
   "source": [
    "### 4.2 Estatísticas Descritivas"
   ]
  },
  {
   "cell_type": "code",
   "execution_count": 10,
   "metadata": {},
   "outputs": [
    {
     "data": {
      "text/html": [
       "<div>\n",
       "<style scoped>\n",
       "    .dataframe tbody tr th:only-of-type {\n",
       "        vertical-align: middle;\n",
       "    }\n",
       "\n",
       "    .dataframe tbody tr th {\n",
       "        vertical-align: top;\n",
       "    }\n",
       "\n",
       "    .dataframe thead th {\n",
       "        text-align: right;\n",
       "    }\n",
       "</style>\n",
       "<table border=\"1\" class=\"dataframe\">\n",
       "  <thead>\n",
       "    <tr style=\"text-align: right;\">\n",
       "      <th></th>\n",
       "      <th>count</th>\n",
       "      <th>unique</th>\n",
       "      <th>top</th>\n",
       "      <th>freq</th>\n",
       "      <th>mean</th>\n",
       "      <th>min</th>\n",
       "      <th>25%</th>\n",
       "      <th>50%</th>\n",
       "      <th>75%</th>\n",
       "      <th>max</th>\n",
       "      <th>std</th>\n",
       "    </tr>\n",
       "  </thead>\n",
       "  <tbody>\n",
       "    <tr>\n",
       "      <th>id</th>\n",
       "      <td>100.00</td>\n",
       "      <td>NaN</td>\n",
       "      <td>NaN</td>\n",
       "      <td>NaN</td>\n",
       "      <td>50.50</td>\n",
       "      <td>1.00</td>\n",
       "      <td>25.75</td>\n",
       "      <td>50.50</td>\n",
       "      <td>75.25</td>\n",
       "      <td>100.00</td>\n",
       "      <td>29.01</td>\n",
       "    </tr>\n",
       "    <tr>\n",
       "      <th>id_unico</th>\n",
       "      <td>100</td>\n",
       "      <td>100</td>\n",
       "      <td>50379.53-54</td>\n",
       "      <td>1</td>\n",
       "      <td>NaN</td>\n",
       "      <td>NaN</td>\n",
       "      <td>NaN</td>\n",
       "      <td>NaN</td>\n",
       "      <td>NaN</td>\n",
       "      <td>NaN</td>\n",
       "      <td>NaN</td>\n",
       "    </tr>\n",
       "    <tr>\n",
       "      <th>nome</th>\n",
       "      <td>100</td>\n",
       "      <td>94</td>\n",
       "      <td>202111-22-Ronald 1</td>\n",
       "      <td>4</td>\n",
       "      <td>NaN</td>\n",
       "      <td>NaN</td>\n",
       "      <td>NaN</td>\n",
       "      <td>NaN</td>\n",
       "      <td>NaN</td>\n",
       "      <td>NaN</td>\n",
       "      <td>NaN</td>\n",
       "    </tr>\n",
       "    <tr>\n",
       "      <th>cep</th>\n",
       "      <td>68</td>\n",
       "      <td>32</td>\n",
       "      <td>1</td>\n",
       "      <td>20</td>\n",
       "      <td>NaN</td>\n",
       "      <td>NaN</td>\n",
       "      <td>NaN</td>\n",
       "      <td>NaN</td>\n",
       "      <td>NaN</td>\n",
       "      <td>NaN</td>\n",
       "      <td>NaN</td>\n",
       "    </tr>\n",
       "    <tr>\n",
       "      <th>endereco</th>\n",
       "      <td>70</td>\n",
       "      <td>44</td>\n",
       "      <td></td>\n",
       "      <td>17</td>\n",
       "      <td>NaN</td>\n",
       "      <td>NaN</td>\n",
       "      <td>NaN</td>\n",
       "      <td>NaN</td>\n",
       "      <td>NaN</td>\n",
       "      <td>NaN</td>\n",
       "      <td>NaN</td>\n",
       "    </tr>\n",
       "    <tr>\n",
       "      <th>descricao</th>\n",
       "      <td>100</td>\n",
       "      <td>94</td>\n",
       "      <td>2021122-Ronald - Descrição do Projeto</td>\n",
       "      <td>4</td>\n",
       "      <td>NaN</td>\n",
       "      <td>NaN</td>\n",
       "      <td>NaN</td>\n",
       "      <td>NaN</td>\n",
       "      <td>NaN</td>\n",
       "      <td>NaN</td>\n",
       "      <td>NaN</td>\n",
       "    </tr>\n",
       "    <tr>\n",
       "      <th>funcao_social</th>\n",
       "      <td>100</td>\n",
       "      <td>81</td>\n",
       "      <td>Segurança Pública</td>\n",
       "      <td>9</td>\n",
       "      <td>NaN</td>\n",
       "      <td>NaN</td>\n",
       "      <td>NaN</td>\n",
       "      <td>NaN</td>\n",
       "      <td>NaN</td>\n",
       "      <td>NaN</td>\n",
       "      <td>NaN</td>\n",
       "    </tr>\n",
       "    <tr>\n",
       "      <th>meta_global</th>\n",
       "      <td>100</td>\n",
       "      <td>83</td>\n",
       "      <td>aumentar a oferta de cursos técnicos/tecnológi...</td>\n",
       "      <td>6</td>\n",
       "      <td>NaN</td>\n",
       "      <td>NaN</td>\n",
       "      <td>NaN</td>\n",
       "      <td>NaN</td>\n",
       "      <td>NaN</td>\n",
       "      <td>NaN</td>\n",
       "      <td>NaN</td>\n",
       "    </tr>\n",
       "    <tr>\n",
       "      <th>data_inicial_prevista</th>\n",
       "      <td>99</td>\n",
       "      <td>NaN</td>\n",
       "      <td>NaN</td>\n",
       "      <td>NaN</td>\n",
       "      <td>2022-01-11 08:29:05.454545408</td>\n",
       "      <td>2013-04-02 00:00:00</td>\n",
       "      <td>2021-04-15 12:00:00</td>\n",
       "      <td>2022-02-14 00:00:00</td>\n",
       "      <td>2023-02-20 00:00:00</td>\n",
       "      <td>2025-09-30 00:00:00</td>\n",
       "      <td>NaN</td>\n",
       "    </tr>\n",
       "    <tr>\n",
       "      <th>data_final_prevista</th>\n",
       "      <td>99</td>\n",
       "      <td>NaN</td>\n",
       "      <td>NaN</td>\n",
       "      <td>NaN</td>\n",
       "      <td>2023-05-07 22:18:10.909090816</td>\n",
       "      <td>2014-05-07 00:00:00</td>\n",
       "      <td>2021-12-22 00:00:00</td>\n",
       "      <td>2023-03-21 00:00:00</td>\n",
       "      <td>2024-03-06 12:00:00</td>\n",
       "      <td>2028-09-30 00:00:00</td>\n",
       "      <td>NaN</td>\n",
       "    </tr>\n",
       "    <tr>\n",
       "      <th>data_inicial_efetiva</th>\n",
       "      <td>0</td>\n",
       "      <td>NaN</td>\n",
       "      <td>NaN</td>\n",
       "      <td>NaN</td>\n",
       "      <td>NaT</td>\n",
       "      <td>NaT</td>\n",
       "      <td>NaT</td>\n",
       "      <td>NaT</td>\n",
       "      <td>NaT</td>\n",
       "      <td>NaT</td>\n",
       "      <td>NaN</td>\n",
       "    </tr>\n",
       "    <tr>\n",
       "      <th>data_final_efetiva</th>\n",
       "      <td>0</td>\n",
       "      <td>NaN</td>\n",
       "      <td>NaN</td>\n",
       "      <td>NaN</td>\n",
       "      <td>NaT</td>\n",
       "      <td>NaT</td>\n",
       "      <td>NaT</td>\n",
       "      <td>NaT</td>\n",
       "      <td>NaT</td>\n",
       "      <td>NaT</td>\n",
       "      <td>NaN</td>\n",
       "    </tr>\n",
       "    <tr>\n",
       "      <th>data_cadastro</th>\n",
       "      <td>100</td>\n",
       "      <td>NaN</td>\n",
       "      <td>NaN</td>\n",
       "      <td>NaN</td>\n",
       "      <td>2022-07-23 13:26:24</td>\n",
       "      <td>2021-01-20 00:00:00</td>\n",
       "      <td>2021-09-29 06:00:00</td>\n",
       "      <td>2022-06-30 00:00:00</td>\n",
       "      <td>2023-02-24 12:00:00</td>\n",
       "      <td>2025-07-25 00:00:00</td>\n",
       "      <td>NaN</td>\n",
       "    </tr>\n",
       "    <tr>\n",
       "      <th>data_situacao</th>\n",
       "      <td>100</td>\n",
       "      <td>NaN</td>\n",
       "      <td>NaN</td>\n",
       "      <td>NaN</td>\n",
       "      <td>2022-08-24 04:19:12</td>\n",
       "      <td>2021-01-20 00:00:00</td>\n",
       "      <td>2021-10-03 18:00:00</td>\n",
       "      <td>2022-07-25 12:00:00</td>\n",
       "      <td>2023-04-01 12:00:00</td>\n",
       "      <td>2025-09-05 00:00:00</td>\n",
       "      <td>NaN</td>\n",
       "    </tr>\n",
       "    <tr>\n",
       "      <th>especie</th>\n",
       "      <td>99</td>\n",
       "      <td>5</td>\n",
       "      <td>Reforma</td>\n",
       "      <td>37</td>\n",
       "      <td>NaN</td>\n",
       "      <td>NaN</td>\n",
       "      <td>NaN</td>\n",
       "      <td>NaN</td>\n",
       "      <td>NaN</td>\n",
       "      <td>NaN</td>\n",
       "      <td>NaN</td>\n",
       "    </tr>\n",
       "    <tr>\n",
       "      <th>natureza</th>\n",
       "      <td>100</td>\n",
       "      <td>5</td>\n",
       "      <td>Obra</td>\n",
       "      <td>70</td>\n",
       "      <td>NaN</td>\n",
       "      <td>NaN</td>\n",
       "      <td>NaN</td>\n",
       "      <td>NaN</td>\n",
       "      <td>NaN</td>\n",
       "      <td>NaN</td>\n",
       "      <td>NaN</td>\n",
       "    </tr>\n",
       "    <tr>\n",
       "      <th>natureza_outras</th>\n",
       "      <td>45</td>\n",
       "      <td>10</td>\n",
       "      <td></td>\n",
       "      <td>29</td>\n",
       "      <td>NaN</td>\n",
       "      <td>NaN</td>\n",
       "      <td>NaN</td>\n",
       "      <td>NaN</td>\n",
       "      <td>NaN</td>\n",
       "      <td>NaN</td>\n",
       "      <td>NaN</td>\n",
       "    </tr>\n",
       "    <tr>\n",
       "      <th>situacao</th>\n",
       "      <td>100</td>\n",
       "      <td>5</td>\n",
       "      <td>Cadastrada</td>\n",
       "      <td>86</td>\n",
       "      <td>NaN</td>\n",
       "      <td>NaN</td>\n",
       "      <td>NaN</td>\n",
       "      <td>NaN</td>\n",
       "      <td>NaN</td>\n",
       "      <td>NaN</td>\n",
       "      <td>NaN</td>\n",
       "    </tr>\n",
       "    <tr>\n",
       "      <th>desc_plano_nacional_politica_vinculado</th>\n",
       "      <td>37</td>\n",
       "      <td>17</td>\n",
       "      <td>Plano de Obras da Polícia Federal</td>\n",
       "      <td>9</td>\n",
       "      <td>NaN</td>\n",
       "      <td>NaN</td>\n",
       "      <td>NaN</td>\n",
       "      <td>NaN</td>\n",
       "      <td>NaN</td>\n",
       "      <td>NaN</td>\n",
       "      <td>NaN</td>\n",
       "    </tr>\n",
       "    <tr>\n",
       "      <th>uf</th>\n",
       "      <td>100</td>\n",
       "      <td>1</td>\n",
       "      <td>DF</td>\n",
       "      <td>100</td>\n",
       "      <td>NaN</td>\n",
       "      <td>NaN</td>\n",
       "      <td>NaN</td>\n",
       "      <td>NaN</td>\n",
       "      <td>NaN</td>\n",
       "      <td>NaN</td>\n",
       "      <td>NaN</td>\n",
       "    </tr>\n",
       "    <tr>\n",
       "      <th>qdt_empregos_gerados</th>\n",
       "      <td>3.00</td>\n",
       "      <td>&lt;NA&gt;</td>\n",
       "      <td>&lt;NA&gt;</td>\n",
       "      <td>&lt;NA&gt;</td>\n",
       "      <td>59.67</td>\n",
       "      <td>30.00</td>\n",
       "      <td>40.00</td>\n",
       "      <td>50.00</td>\n",
       "      <td>74.50</td>\n",
       "      <td>99.00</td>\n",
       "      <td>35.50</td>\n",
       "    </tr>\n",
       "    <tr>\n",
       "      <th>desc_populacao_beneficiada</th>\n",
       "      <td>7</td>\n",
       "      <td>6</td>\n",
       "      <td>Descrição população beneficiada</td>\n",
       "      <td>2</td>\n",
       "      <td>NaN</td>\n",
       "      <td>NaN</td>\n",
       "      <td>NaN</td>\n",
       "      <td>NaN</td>\n",
       "      <td>NaN</td>\n",
       "      <td>NaN</td>\n",
       "      <td>NaN</td>\n",
       "    </tr>\n",
       "    <tr>\n",
       "      <th>populacao_beneficiada</th>\n",
       "      <td>3.00</td>\n",
       "      <td>&lt;NA&gt;</td>\n",
       "      <td>&lt;NA&gt;</td>\n",
       "      <td>&lt;NA&gt;</td>\n",
       "      <td>62,795.00</td>\n",
       "      <td>385.00</td>\n",
       "      <td>4,192.50</td>\n",
       "      <td>8,000.00</td>\n",
       "      <td>94,000.00</td>\n",
       "      <td>180,000.00</td>\n",
       "      <td>101,573.89</td>\n",
       "    </tr>\n",
       "    <tr>\n",
       "      <th>observacoes_pertinentes</th>\n",
       "      <td>2</td>\n",
       "      <td>1</td>\n",
       "      <td>Informações Obras Fundo Nacional de Desenvolvi...</td>\n",
       "      <td>2</td>\n",
       "      <td>NaN</td>\n",
       "      <td>NaN</td>\n",
       "      <td>NaN</td>\n",
       "      <td>NaN</td>\n",
       "      <td>NaN</td>\n",
       "      <td>NaN</td>\n",
       "      <td>NaN</td>\n",
       "    </tr>\n",
       "    <tr>\n",
       "      <th>is_modelada_por_bim</th>\n",
       "      <td>100</td>\n",
       "      <td>2</td>\n",
       "      <td>False</td>\n",
       "      <td>97</td>\n",
       "      <td>NaN</td>\n",
       "      <td>NaN</td>\n",
       "      <td>NaN</td>\n",
       "      <td>NaN</td>\n",
       "      <td>NaN</td>\n",
       "      <td>NaN</td>\n",
       "      <td>NaN</td>\n",
       "    </tr>\n",
       "    <tr>\n",
       "      <th>created_at</th>\n",
       "      <td>100</td>\n",
       "      <td>NaN</td>\n",
       "      <td>NaN</td>\n",
       "      <td>NaN</td>\n",
       "      <td>2025-10-20 19:04:51.976596992</td>\n",
       "      <td>2025-10-20 19:04:50.479415</td>\n",
       "      <td>2025-10-20 19:04:51.339481856</td>\n",
       "      <td>2025-10-20 19:04:52.070001408</td>\n",
       "      <td>2025-10-20 19:04:52.618473472</td>\n",
       "      <td>2025-10-20 19:04:53.137246</td>\n",
       "      <td>NaN</td>\n",
       "    </tr>\n",
       "    <tr>\n",
       "      <th>updated_at</th>\n",
       "      <td>100</td>\n",
       "      <td>NaN</td>\n",
       "      <td>NaN</td>\n",
       "      <td>NaN</td>\n",
       "      <td>2025-10-20 19:04:51.976601856</td>\n",
       "      <td>2025-10-20 19:04:50.479419</td>\n",
       "      <td>2025-10-20 19:04:51.339486464</td>\n",
       "      <td>2025-10-20 19:04:52.070006528</td>\n",
       "      <td>2025-10-20 19:04:52.618477824</td>\n",
       "      <td>2025-10-20 19:04:53.137249</td>\n",
       "      <td>NaN</td>\n",
       "    </tr>\n",
       "    <tr>\n",
       "      <th>duracao_prevista_dias</th>\n",
       "      <td>99.00</td>\n",
       "      <td>NaN</td>\n",
       "      <td>NaN</td>\n",
       "      <td>NaN</td>\n",
       "      <td>481.58</td>\n",
       "      <td>-1.00</td>\n",
       "      <td>180.50</td>\n",
       "      <td>294.00</td>\n",
       "      <td>564.50</td>\n",
       "      <td>2,679.00</td>\n",
       "      <td>535.19</td>\n",
       "    </tr>\n",
       "    <tr>\n",
       "      <th>duracao_efetiva_dias</th>\n",
       "      <td>0.00</td>\n",
       "      <td>NaN</td>\n",
       "      <td>NaN</td>\n",
       "      <td>NaN</td>\n",
       "      <td>NaN</td>\n",
       "      <td>NaN</td>\n",
       "      <td>NaN</td>\n",
       "      <td>NaN</td>\n",
       "      <td>NaN</td>\n",
       "      <td>NaN</td>\n",
       "      <td>NaN</td>\n",
       "    </tr>\n",
       "    <tr>\n",
       "      <th>ano_cadastro</th>\n",
       "      <td>100.00</td>\n",
       "      <td>NaN</td>\n",
       "      <td>NaN</td>\n",
       "      <td>NaN</td>\n",
       "      <td>2,022.05</td>\n",
       "      <td>2,021.00</td>\n",
       "      <td>2,021.00</td>\n",
       "      <td>2,022.00</td>\n",
       "      <td>2,023.00</td>\n",
       "      <td>2,025.00</td>\n",
       "      <td>1.12</td>\n",
       "    </tr>\n",
       "    <tr>\n",
       "      <th>mes_cadastro</th>\n",
       "      <td>100.00</td>\n",
       "      <td>NaN</td>\n",
       "      <td>NaN</td>\n",
       "      <td>NaN</td>\n",
       "      <td>6.63</td>\n",
       "      <td>1.00</td>\n",
       "      <td>4.00</td>\n",
       "      <td>7.00</td>\n",
       "      <td>9.00</td>\n",
       "      <td>12.00</td>\n",
       "      <td>3.34</td>\n",
       "    </tr>\n",
       "  </tbody>\n",
       "</table>\n",
       "</div>"
      ],
      "text/plain": [
       "                                        count unique  \\\n",
       "id                                     100.00    NaN   \n",
       "id_unico                                  100    100   \n",
       "nome                                      100     94   \n",
       "cep                                        68     32   \n",
       "endereco                                   70     44   \n",
       "descricao                                 100     94   \n",
       "funcao_social                             100     81   \n",
       "meta_global                               100     83   \n",
       "data_inicial_prevista                      99    NaN   \n",
       "data_final_prevista                        99    NaN   \n",
       "data_inicial_efetiva                        0    NaN   \n",
       "data_final_efetiva                          0    NaN   \n",
       "data_cadastro                             100    NaN   \n",
       "data_situacao                             100    NaN   \n",
       "especie                                    99      5   \n",
       "natureza                                  100      5   \n",
       "natureza_outras                            45     10   \n",
       "situacao                                  100      5   \n",
       "desc_plano_nacional_politica_vinculado     37     17   \n",
       "uf                                        100      1   \n",
       "qdt_empregos_gerados                     3.00   <NA>   \n",
       "desc_populacao_beneficiada                  7      6   \n",
       "populacao_beneficiada                    3.00   <NA>   \n",
       "observacoes_pertinentes                     2      1   \n",
       "is_modelada_por_bim                       100      2   \n",
       "created_at                                100    NaN   \n",
       "updated_at                                100    NaN   \n",
       "duracao_prevista_dias                   99.00    NaN   \n",
       "duracao_efetiva_dias                     0.00    NaN   \n",
       "ano_cadastro                           100.00    NaN   \n",
       "mes_cadastro                           100.00    NaN   \n",
       "\n",
       "                                                                                      top  \\\n",
       "id                                                                                    NaN   \n",
       "id_unico                                                                      50379.53-54   \n",
       "nome                                                                   202111-22-Ronald 1   \n",
       "cep                                                                                     1   \n",
       "endereco                                                                                    \n",
       "descricao                                           2021122-Ronald - Descrição do Projeto   \n",
       "funcao_social                                                           Segurança Pública   \n",
       "meta_global                             aumentar a oferta de cursos técnicos/tecnológi...   \n",
       "data_inicial_prevista                                                                 NaN   \n",
       "data_final_prevista                                                                   NaN   \n",
       "data_inicial_efetiva                                                                  NaN   \n",
       "data_final_efetiva                                                                    NaN   \n",
       "data_cadastro                                                                         NaN   \n",
       "data_situacao                                                                         NaN   \n",
       "especie                                                                           Reforma   \n",
       "natureza                                                                             Obra   \n",
       "natureza_outras                                                                             \n",
       "situacao                                                                       Cadastrada   \n",
       "desc_plano_nacional_politica_vinculado                  Plano de Obras da Polícia Federal   \n",
       "uf                                                                                     DF   \n",
       "qdt_empregos_gerados                                                                 <NA>   \n",
       "desc_populacao_beneficiada                                Descrição população beneficiada   \n",
       "populacao_beneficiada                                                                <NA>   \n",
       "observacoes_pertinentes                 Informações Obras Fundo Nacional de Desenvolvi...   \n",
       "is_modelada_por_bim                                                                 False   \n",
       "created_at                                                                            NaN   \n",
       "updated_at                                                                            NaN   \n",
       "duracao_prevista_dias                                                                 NaN   \n",
       "duracao_efetiva_dias                                                                  NaN   \n",
       "ano_cadastro                                                                          NaN   \n",
       "mes_cadastro                                                                          NaN   \n",
       "\n",
       "                                        freq                           mean  \\\n",
       "id                                       NaN                          50.50   \n",
       "id_unico                                   1                            NaN   \n",
       "nome                                       4                            NaN   \n",
       "cep                                       20                            NaN   \n",
       "endereco                                  17                            NaN   \n",
       "descricao                                  4                            NaN   \n",
       "funcao_social                              9                            NaN   \n",
       "meta_global                                6                            NaN   \n",
       "data_inicial_prevista                    NaN  2022-01-11 08:29:05.454545408   \n",
       "data_final_prevista                      NaN  2023-05-07 22:18:10.909090816   \n",
       "data_inicial_efetiva                     NaN                            NaT   \n",
       "data_final_efetiva                       NaN                            NaT   \n",
       "data_cadastro                            NaN            2022-07-23 13:26:24   \n",
       "data_situacao                            NaN            2022-08-24 04:19:12   \n",
       "especie                                   37                            NaN   \n",
       "natureza                                  70                            NaN   \n",
       "natureza_outras                           29                            NaN   \n",
       "situacao                                  86                            NaN   \n",
       "desc_plano_nacional_politica_vinculado     9                            NaN   \n",
       "uf                                       100                            NaN   \n",
       "qdt_empregos_gerados                    <NA>                          59.67   \n",
       "desc_populacao_beneficiada                 2                            NaN   \n",
       "populacao_beneficiada                   <NA>                      62,795.00   \n",
       "observacoes_pertinentes                    2                            NaN   \n",
       "is_modelada_por_bim                       97                            NaN   \n",
       "created_at                               NaN  2025-10-20 19:04:51.976596992   \n",
       "updated_at                               NaN  2025-10-20 19:04:51.976601856   \n",
       "duracao_prevista_dias                    NaN                         481.58   \n",
       "duracao_efetiva_dias                     NaN                            NaN   \n",
       "ano_cadastro                             NaN                       2,022.05   \n",
       "mes_cadastro                             NaN                           6.63   \n",
       "\n",
       "                                                               min  \\\n",
       "id                                                            1.00   \n",
       "id_unico                                                       NaN   \n",
       "nome                                                           NaN   \n",
       "cep                                                            NaN   \n",
       "endereco                                                       NaN   \n",
       "descricao                                                      NaN   \n",
       "funcao_social                                                  NaN   \n",
       "meta_global                                                    NaN   \n",
       "data_inicial_prevista                          2013-04-02 00:00:00   \n",
       "data_final_prevista                            2014-05-07 00:00:00   \n",
       "data_inicial_efetiva                                           NaT   \n",
       "data_final_efetiva                                             NaT   \n",
       "data_cadastro                                  2021-01-20 00:00:00   \n",
       "data_situacao                                  2021-01-20 00:00:00   \n",
       "especie                                                        NaN   \n",
       "natureza                                                       NaN   \n",
       "natureza_outras                                                NaN   \n",
       "situacao                                                       NaN   \n",
       "desc_plano_nacional_politica_vinculado                         NaN   \n",
       "uf                                                             NaN   \n",
       "qdt_empregos_gerados                                         30.00   \n",
       "desc_populacao_beneficiada                                     NaN   \n",
       "populacao_beneficiada                                       385.00   \n",
       "observacoes_pertinentes                                        NaN   \n",
       "is_modelada_por_bim                                            NaN   \n",
       "created_at                              2025-10-20 19:04:50.479415   \n",
       "updated_at                              2025-10-20 19:04:50.479419   \n",
       "duracao_prevista_dias                                        -1.00   \n",
       "duracao_efetiva_dias                                           NaN   \n",
       "ano_cadastro                                              2,021.00   \n",
       "mes_cadastro                                                  1.00   \n",
       "\n",
       "                                                                  25%  \\\n",
       "id                                                              25.75   \n",
       "id_unico                                                          NaN   \n",
       "nome                                                              NaN   \n",
       "cep                                                               NaN   \n",
       "endereco                                                          NaN   \n",
       "descricao                                                         NaN   \n",
       "funcao_social                                                     NaN   \n",
       "meta_global                                                       NaN   \n",
       "data_inicial_prevista                             2021-04-15 12:00:00   \n",
       "data_final_prevista                               2021-12-22 00:00:00   \n",
       "data_inicial_efetiva                                              NaT   \n",
       "data_final_efetiva                                                NaT   \n",
       "data_cadastro                                     2021-09-29 06:00:00   \n",
       "data_situacao                                     2021-10-03 18:00:00   \n",
       "especie                                                           NaN   \n",
       "natureza                                                          NaN   \n",
       "natureza_outras                                                   NaN   \n",
       "situacao                                                          NaN   \n",
       "desc_plano_nacional_politica_vinculado                            NaN   \n",
       "uf                                                                NaN   \n",
       "qdt_empregos_gerados                                            40.00   \n",
       "desc_populacao_beneficiada                                        NaN   \n",
       "populacao_beneficiada                                        4,192.50   \n",
       "observacoes_pertinentes                                           NaN   \n",
       "is_modelada_por_bim                                               NaN   \n",
       "created_at                              2025-10-20 19:04:51.339481856   \n",
       "updated_at                              2025-10-20 19:04:51.339486464   \n",
       "duracao_prevista_dias                                          180.50   \n",
       "duracao_efetiva_dias                                              NaN   \n",
       "ano_cadastro                                                 2,021.00   \n",
       "mes_cadastro                                                     4.00   \n",
       "\n",
       "                                                                  50%  \\\n",
       "id                                                              50.50   \n",
       "id_unico                                                          NaN   \n",
       "nome                                                              NaN   \n",
       "cep                                                               NaN   \n",
       "endereco                                                          NaN   \n",
       "descricao                                                         NaN   \n",
       "funcao_social                                                     NaN   \n",
       "meta_global                                                       NaN   \n",
       "data_inicial_prevista                             2022-02-14 00:00:00   \n",
       "data_final_prevista                               2023-03-21 00:00:00   \n",
       "data_inicial_efetiva                                              NaT   \n",
       "data_final_efetiva                                                NaT   \n",
       "data_cadastro                                     2022-06-30 00:00:00   \n",
       "data_situacao                                     2022-07-25 12:00:00   \n",
       "especie                                                           NaN   \n",
       "natureza                                                          NaN   \n",
       "natureza_outras                                                   NaN   \n",
       "situacao                                                          NaN   \n",
       "desc_plano_nacional_politica_vinculado                            NaN   \n",
       "uf                                                                NaN   \n",
       "qdt_empregos_gerados                                            50.00   \n",
       "desc_populacao_beneficiada                                        NaN   \n",
       "populacao_beneficiada                                        8,000.00   \n",
       "observacoes_pertinentes                                           NaN   \n",
       "is_modelada_por_bim                                               NaN   \n",
       "created_at                              2025-10-20 19:04:52.070001408   \n",
       "updated_at                              2025-10-20 19:04:52.070006528   \n",
       "duracao_prevista_dias                                          294.00   \n",
       "duracao_efetiva_dias                                              NaN   \n",
       "ano_cadastro                                                 2,022.00   \n",
       "mes_cadastro                                                     7.00   \n",
       "\n",
       "                                                                  75%  \\\n",
       "id                                                              75.25   \n",
       "id_unico                                                          NaN   \n",
       "nome                                                              NaN   \n",
       "cep                                                               NaN   \n",
       "endereco                                                          NaN   \n",
       "descricao                                                         NaN   \n",
       "funcao_social                                                     NaN   \n",
       "meta_global                                                       NaN   \n",
       "data_inicial_prevista                             2023-02-20 00:00:00   \n",
       "data_final_prevista                               2024-03-06 12:00:00   \n",
       "data_inicial_efetiva                                              NaT   \n",
       "data_final_efetiva                                                NaT   \n",
       "data_cadastro                                     2023-02-24 12:00:00   \n",
       "data_situacao                                     2023-04-01 12:00:00   \n",
       "especie                                                           NaN   \n",
       "natureza                                                          NaN   \n",
       "natureza_outras                                                   NaN   \n",
       "situacao                                                          NaN   \n",
       "desc_plano_nacional_politica_vinculado                            NaN   \n",
       "uf                                                                NaN   \n",
       "qdt_empregos_gerados                                            74.50   \n",
       "desc_populacao_beneficiada                                        NaN   \n",
       "populacao_beneficiada                                       94,000.00   \n",
       "observacoes_pertinentes                                           NaN   \n",
       "is_modelada_por_bim                                               NaN   \n",
       "created_at                              2025-10-20 19:04:52.618473472   \n",
       "updated_at                              2025-10-20 19:04:52.618477824   \n",
       "duracao_prevista_dias                                          564.50   \n",
       "duracao_efetiva_dias                                              NaN   \n",
       "ano_cadastro                                                 2,023.00   \n",
       "mes_cadastro                                                     9.00   \n",
       "\n",
       "                                                               max        std  \n",
       "id                                                          100.00      29.01  \n",
       "id_unico                                                       NaN        NaN  \n",
       "nome                                                           NaN        NaN  \n",
       "cep                                                            NaN        NaN  \n",
       "endereco                                                       NaN        NaN  \n",
       "descricao                                                      NaN        NaN  \n",
       "funcao_social                                                  NaN        NaN  \n",
       "meta_global                                                    NaN        NaN  \n",
       "data_inicial_prevista                          2025-09-30 00:00:00        NaN  \n",
       "data_final_prevista                            2028-09-30 00:00:00        NaN  \n",
       "data_inicial_efetiva                                           NaT        NaN  \n",
       "data_final_efetiva                                             NaT        NaN  \n",
       "data_cadastro                                  2025-07-25 00:00:00        NaN  \n",
       "data_situacao                                  2025-09-05 00:00:00        NaN  \n",
       "especie                                                        NaN        NaN  \n",
       "natureza                                                       NaN        NaN  \n",
       "natureza_outras                                                NaN        NaN  \n",
       "situacao                                                       NaN        NaN  \n",
       "desc_plano_nacional_politica_vinculado                         NaN        NaN  \n",
       "uf                                                             NaN        NaN  \n",
       "qdt_empregos_gerados                                         99.00      35.50  \n",
       "desc_populacao_beneficiada                                     NaN        NaN  \n",
       "populacao_beneficiada                                   180,000.00 101,573.89  \n",
       "observacoes_pertinentes                                        NaN        NaN  \n",
       "is_modelada_por_bim                                            NaN        NaN  \n",
       "created_at                              2025-10-20 19:04:53.137246        NaN  \n",
       "updated_at                              2025-10-20 19:04:53.137249        NaN  \n",
       "duracao_prevista_dias                                     2,679.00     535.19  \n",
       "duracao_efetiva_dias                                           NaN        NaN  \n",
       "ano_cadastro                                              2,025.00       1.12  \n",
       "mes_cadastro                                                 12.00       3.34  "
      ]
     },
     "execution_count": 10,
     "metadata": {},
     "output_type": "execute_result"
    }
   ],
   "source": [
    "df.describe(include='all').T"
   ]
  },
  {
   "cell_type": "markdown",
   "metadata": {},
   "source": [
    "## 5. Análise Exploratória de Dados (EDA)\n",
    "\n",
    "### 5.1 Distribuição por Situação dos Projetos"
   ]
  },
  {
   "cell_type": "code",
   "execution_count": 11,
   "metadata": {},
   "outputs": [
    {
     "name": "stdout",
     "output_type": "stream",
     "text": [
      "Distribuição de Projetos por Situação:\n",
      "\n"
     ]
    },
    {
     "data": {
      "text/html": [
       "<div>\n",
       "<style scoped>\n",
       "    .dataframe tbody tr th:only-of-type {\n",
       "        vertical-align: middle;\n",
       "    }\n",
       "\n",
       "    .dataframe tbody tr th {\n",
       "        vertical-align: top;\n",
       "    }\n",
       "\n",
       "    .dataframe thead th {\n",
       "        text-align: right;\n",
       "    }\n",
       "</style>\n",
       "<table border=\"1\" class=\"dataframe\">\n",
       "  <thead>\n",
       "    <tr style=\"text-align: right;\">\n",
       "      <th></th>\n",
       "      <th>situacao</th>\n",
       "      <th>total</th>\n",
       "    </tr>\n",
       "  </thead>\n",
       "  <tbody>\n",
       "    <tr>\n",
       "      <th>0</th>\n",
       "      <td>Cadastrada</td>\n",
       "      <td>86</td>\n",
       "    </tr>\n",
       "    <tr>\n",
       "      <th>1</th>\n",
       "      <td>Em execução</td>\n",
       "      <td>5</td>\n",
       "    </tr>\n",
       "    <tr>\n",
       "      <th>2</th>\n",
       "      <td>Concluída</td>\n",
       "      <td>5</td>\n",
       "    </tr>\n",
       "    <tr>\n",
       "      <th>3</th>\n",
       "      <td>Inativada</td>\n",
       "      <td>3</td>\n",
       "    </tr>\n",
       "    <tr>\n",
       "      <th>4</th>\n",
       "      <td>Cancelada</td>\n",
       "      <td>1</td>\n",
       "    </tr>\n",
       "  </tbody>\n",
       "</table>\n",
       "</div>"
      ],
      "text/plain": [
       "      situacao  total\n",
       "0   Cadastrada     86\n",
       "1  Em execução      5\n",
       "2    Concluída      5\n",
       "3    Inativada      3\n",
       "4    Cancelada      1"
      ]
     },
     "metadata": {},
     "output_type": "display_data"
    },
    {
     "data": {
      "application/vnd.plotly.v1+json": {
       "config": {
        "plotlyServerURL": "https://plot.ly"
       },
       "data": [
        {
         "domain": {
          "x": [
           0,
           1
          ],
          "y": [
           0,
           1
          ]
         },
         "hole": 0.3,
         "hovertemplate": "situacao=%{label}<br>total=%{value}<extra></extra>",
         "labels": [
          "Cadastrada",
          "Em execução",
          "Concluída",
          "Inativada",
          "Cancelada"
         ],
         "legendgroup": "",
         "name": "",
         "showlegend": true,
         "type": "pie",
         "values": [
          86,
          5,
          5,
          3,
          1
         ]
        }
       ],
       "layout": {
        "legend": {
         "tracegroupgap": 0
        },
        "template": {
         "data": {
          "bar": [
           {
            "error_x": {
             "color": "#2a3f5f"
            },
            "error_y": {
             "color": "#2a3f5f"
            },
            "marker": {
             "line": {
              "color": "#E5ECF6",
              "width": 0.5
             },
             "pattern": {
              "fillmode": "overlay",
              "size": 10,
              "solidity": 0.2
             }
            },
            "type": "bar"
           }
          ],
          "barpolar": [
           {
            "marker": {
             "line": {
              "color": "#E5ECF6",
              "width": 0.5
             },
             "pattern": {
              "fillmode": "overlay",
              "size": 10,
              "solidity": 0.2
             }
            },
            "type": "barpolar"
           }
          ],
          "carpet": [
           {
            "aaxis": {
             "endlinecolor": "#2a3f5f",
             "gridcolor": "white",
             "linecolor": "white",
             "minorgridcolor": "white",
             "startlinecolor": "#2a3f5f"
            },
            "baxis": {
             "endlinecolor": "#2a3f5f",
             "gridcolor": "white",
             "linecolor": "white",
             "minorgridcolor": "white",
             "startlinecolor": "#2a3f5f"
            },
            "type": "carpet"
           }
          ],
          "choropleth": [
           {
            "colorbar": {
             "outlinewidth": 0,
             "ticks": ""
            },
            "type": "choropleth"
           }
          ],
          "contour": [
           {
            "colorbar": {
             "outlinewidth": 0,
             "ticks": ""
            },
            "colorscale": [
             [
              0,
              "#0d0887"
             ],
             [
              0.1111111111111111,
              "#46039f"
             ],
             [
              0.2222222222222222,
              "#7201a8"
             ],
             [
              0.3333333333333333,
              "#9c179e"
             ],
             [
              0.4444444444444444,
              "#bd3786"
             ],
             [
              0.5555555555555556,
              "#d8576b"
             ],
             [
              0.6666666666666666,
              "#ed7953"
             ],
             [
              0.7777777777777778,
              "#fb9f3a"
             ],
             [
              0.8888888888888888,
              "#fdca26"
             ],
             [
              1,
              "#f0f921"
             ]
            ],
            "type": "contour"
           }
          ],
          "contourcarpet": [
           {
            "colorbar": {
             "outlinewidth": 0,
             "ticks": ""
            },
            "type": "contourcarpet"
           }
          ],
          "heatmap": [
           {
            "colorbar": {
             "outlinewidth": 0,
             "ticks": ""
            },
            "colorscale": [
             [
              0,
              "#0d0887"
             ],
             [
              0.1111111111111111,
              "#46039f"
             ],
             [
              0.2222222222222222,
              "#7201a8"
             ],
             [
              0.3333333333333333,
              "#9c179e"
             ],
             [
              0.4444444444444444,
              "#bd3786"
             ],
             [
              0.5555555555555556,
              "#d8576b"
             ],
             [
              0.6666666666666666,
              "#ed7953"
             ],
             [
              0.7777777777777778,
              "#fb9f3a"
             ],
             [
              0.8888888888888888,
              "#fdca26"
             ],
             [
              1,
              "#f0f921"
             ]
            ],
            "type": "heatmap"
           }
          ],
          "heatmapgl": [
           {
            "colorbar": {
             "outlinewidth": 0,
             "ticks": ""
            },
            "colorscale": [
             [
              0,
              "#0d0887"
             ],
             [
              0.1111111111111111,
              "#46039f"
             ],
             [
              0.2222222222222222,
              "#7201a8"
             ],
             [
              0.3333333333333333,
              "#9c179e"
             ],
             [
              0.4444444444444444,
              "#bd3786"
             ],
             [
              0.5555555555555556,
              "#d8576b"
             ],
             [
              0.6666666666666666,
              "#ed7953"
             ],
             [
              0.7777777777777778,
              "#fb9f3a"
             ],
             [
              0.8888888888888888,
              "#fdca26"
             ],
             [
              1,
              "#f0f921"
             ]
            ],
            "type": "heatmapgl"
           }
          ],
          "histogram": [
           {
            "marker": {
             "pattern": {
              "fillmode": "overlay",
              "size": 10,
              "solidity": 0.2
             }
            },
            "type": "histogram"
           }
          ],
          "histogram2d": [
           {
            "colorbar": {
             "outlinewidth": 0,
             "ticks": ""
            },
            "colorscale": [
             [
              0,
              "#0d0887"
             ],
             [
              0.1111111111111111,
              "#46039f"
             ],
             [
              0.2222222222222222,
              "#7201a8"
             ],
             [
              0.3333333333333333,
              "#9c179e"
             ],
             [
              0.4444444444444444,
              "#bd3786"
             ],
             [
              0.5555555555555556,
              "#d8576b"
             ],
             [
              0.6666666666666666,
              "#ed7953"
             ],
             [
              0.7777777777777778,
              "#fb9f3a"
             ],
             [
              0.8888888888888888,
              "#fdca26"
             ],
             [
              1,
              "#f0f921"
             ]
            ],
            "type": "histogram2d"
           }
          ],
          "histogram2dcontour": [
           {
            "colorbar": {
             "outlinewidth": 0,
             "ticks": ""
            },
            "colorscale": [
             [
              0,
              "#0d0887"
             ],
             [
              0.1111111111111111,
              "#46039f"
             ],
             [
              0.2222222222222222,
              "#7201a8"
             ],
             [
              0.3333333333333333,
              "#9c179e"
             ],
             [
              0.4444444444444444,
              "#bd3786"
             ],
             [
              0.5555555555555556,
              "#d8576b"
             ],
             [
              0.6666666666666666,
              "#ed7953"
             ],
             [
              0.7777777777777778,
              "#fb9f3a"
             ],
             [
              0.8888888888888888,
              "#fdca26"
             ],
             [
              1,
              "#f0f921"
             ]
            ],
            "type": "histogram2dcontour"
           }
          ],
          "mesh3d": [
           {
            "colorbar": {
             "outlinewidth": 0,
             "ticks": ""
            },
            "type": "mesh3d"
           }
          ],
          "parcoords": [
           {
            "line": {
             "colorbar": {
              "outlinewidth": 0,
              "ticks": ""
             }
            },
            "type": "parcoords"
           }
          ],
          "pie": [
           {
            "automargin": true,
            "type": "pie"
           }
          ],
          "scatter": [
           {
            "fillpattern": {
             "fillmode": "overlay",
             "size": 10,
             "solidity": 0.2
            },
            "type": "scatter"
           }
          ],
          "scatter3d": [
           {
            "line": {
             "colorbar": {
              "outlinewidth": 0,
              "ticks": ""
             }
            },
            "marker": {
             "colorbar": {
              "outlinewidth": 0,
              "ticks": ""
             }
            },
            "type": "scatter3d"
           }
          ],
          "scattercarpet": [
           {
            "marker": {
             "colorbar": {
              "outlinewidth": 0,
              "ticks": ""
             }
            },
            "type": "scattercarpet"
           }
          ],
          "scattergeo": [
           {
            "marker": {
             "colorbar": {
              "outlinewidth": 0,
              "ticks": ""
             }
            },
            "type": "scattergeo"
           }
          ],
          "scattergl": [
           {
            "marker": {
             "colorbar": {
              "outlinewidth": 0,
              "ticks": ""
             }
            },
            "type": "scattergl"
           }
          ],
          "scattermapbox": [
           {
            "marker": {
             "colorbar": {
              "outlinewidth": 0,
              "ticks": ""
             }
            },
            "type": "scattermapbox"
           }
          ],
          "scatterpolar": [
           {
            "marker": {
             "colorbar": {
              "outlinewidth": 0,
              "ticks": ""
             }
            },
            "type": "scatterpolar"
           }
          ],
          "scatterpolargl": [
           {
            "marker": {
             "colorbar": {
              "outlinewidth": 0,
              "ticks": ""
             }
            },
            "type": "scatterpolargl"
           }
          ],
          "scatterternary": [
           {
            "marker": {
             "colorbar": {
              "outlinewidth": 0,
              "ticks": ""
             }
            },
            "type": "scatterternary"
           }
          ],
          "surface": [
           {
            "colorbar": {
             "outlinewidth": 0,
             "ticks": ""
            },
            "colorscale": [
             [
              0,
              "#0d0887"
             ],
             [
              0.1111111111111111,
              "#46039f"
             ],
             [
              0.2222222222222222,
              "#7201a8"
             ],
             [
              0.3333333333333333,
              "#9c179e"
             ],
             [
              0.4444444444444444,
              "#bd3786"
             ],
             [
              0.5555555555555556,
              "#d8576b"
             ],
             [
              0.6666666666666666,
              "#ed7953"
             ],
             [
              0.7777777777777778,
              "#fb9f3a"
             ],
             [
              0.8888888888888888,
              "#fdca26"
             ],
             [
              1,
              "#f0f921"
             ]
            ],
            "type": "surface"
           }
          ],
          "table": [
           {
            "cells": {
             "fill": {
              "color": "#EBF0F8"
             },
             "line": {
              "color": "white"
             }
            },
            "header": {
             "fill": {
              "color": "#C8D4E3"
             },
             "line": {
              "color": "white"
             }
            },
            "type": "table"
           }
          ]
         },
         "layout": {
          "annotationdefaults": {
           "arrowcolor": "#2a3f5f",
           "arrowhead": 0,
           "arrowwidth": 1
          },
          "autotypenumbers": "strict",
          "coloraxis": {
           "colorbar": {
            "outlinewidth": 0,
            "ticks": ""
           }
          },
          "colorscale": {
           "diverging": [
            [
             0,
             "#8e0152"
            ],
            [
             0.1,
             "#c51b7d"
            ],
            [
             0.2,
             "#de77ae"
            ],
            [
             0.3,
             "#f1b6da"
            ],
            [
             0.4,
             "#fde0ef"
            ],
            [
             0.5,
             "#f7f7f7"
            ],
            [
             0.6,
             "#e6f5d0"
            ],
            [
             0.7,
             "#b8e186"
            ],
            [
             0.8,
             "#7fbc41"
            ],
            [
             0.9,
             "#4d9221"
            ],
            [
             1,
             "#276419"
            ]
           ],
           "sequential": [
            [
             0,
             "#0d0887"
            ],
            [
             0.1111111111111111,
             "#46039f"
            ],
            [
             0.2222222222222222,
             "#7201a8"
            ],
            [
             0.3333333333333333,
             "#9c179e"
            ],
            [
             0.4444444444444444,
             "#bd3786"
            ],
            [
             0.5555555555555556,
             "#d8576b"
            ],
            [
             0.6666666666666666,
             "#ed7953"
            ],
            [
             0.7777777777777778,
             "#fb9f3a"
            ],
            [
             0.8888888888888888,
             "#fdca26"
            ],
            [
             1,
             "#f0f921"
            ]
           ],
           "sequentialminus": [
            [
             0,
             "#0d0887"
            ],
            [
             0.1111111111111111,
             "#46039f"
            ],
            [
             0.2222222222222222,
             "#7201a8"
            ],
            [
             0.3333333333333333,
             "#9c179e"
            ],
            [
             0.4444444444444444,
             "#bd3786"
            ],
            [
             0.5555555555555556,
             "#d8576b"
            ],
            [
             0.6666666666666666,
             "#ed7953"
            ],
            [
             0.7777777777777778,
             "#fb9f3a"
            ],
            [
             0.8888888888888888,
             "#fdca26"
            ],
            [
             1,
             "#f0f921"
            ]
           ]
          },
          "colorway": [
           "#636efa",
           "#EF553B",
           "#00cc96",
           "#ab63fa",
           "#FFA15A",
           "#19d3f3",
           "#FF6692",
           "#B6E880",
           "#FF97FF",
           "#FECB52"
          ],
          "font": {
           "color": "#2a3f5f"
          },
          "geo": {
           "bgcolor": "white",
           "lakecolor": "white",
           "landcolor": "#E5ECF6",
           "showlakes": true,
           "showland": true,
           "subunitcolor": "white"
          },
          "hoverlabel": {
           "align": "left"
          },
          "hovermode": "closest",
          "mapbox": {
           "style": "light"
          },
          "paper_bgcolor": "white",
          "plot_bgcolor": "#E5ECF6",
          "polar": {
           "angularaxis": {
            "gridcolor": "white",
            "linecolor": "white",
            "ticks": ""
           },
           "bgcolor": "#E5ECF6",
           "radialaxis": {
            "gridcolor": "white",
            "linecolor": "white",
            "ticks": ""
           }
          },
          "scene": {
           "xaxis": {
            "backgroundcolor": "#E5ECF6",
            "gridcolor": "white",
            "gridwidth": 2,
            "linecolor": "white",
            "showbackground": true,
            "ticks": "",
            "zerolinecolor": "white"
           },
           "yaxis": {
            "backgroundcolor": "#E5ECF6",
            "gridcolor": "white",
            "gridwidth": 2,
            "linecolor": "white",
            "showbackground": true,
            "ticks": "",
            "zerolinecolor": "white"
           },
           "zaxis": {
            "backgroundcolor": "#E5ECF6",
            "gridcolor": "white",
            "gridwidth": 2,
            "linecolor": "white",
            "showbackground": true,
            "ticks": "",
            "zerolinecolor": "white"
           }
          },
          "shapedefaults": {
           "line": {
            "color": "#2a3f5f"
           }
          },
          "ternary": {
           "aaxis": {
            "gridcolor": "white",
            "linecolor": "white",
            "ticks": ""
           },
           "baxis": {
            "gridcolor": "white",
            "linecolor": "white",
            "ticks": ""
           },
           "bgcolor": "#E5ECF6",
           "caxis": {
            "gridcolor": "white",
            "linecolor": "white",
            "ticks": ""
           }
          },
          "title": {
           "x": 0.05
          },
          "xaxis": {
           "automargin": true,
           "gridcolor": "white",
           "linecolor": "white",
           "ticks": "",
           "title": {
            "standoff": 15
           },
           "zerolinecolor": "white",
           "zerolinewidth": 2
          },
          "yaxis": {
           "automargin": true,
           "gridcolor": "white",
           "linecolor": "white",
           "ticks": "",
           "title": {
            "standoff": 15
           },
           "zerolinecolor": "white",
           "zerolinewidth": 2
          }
         }
        },
        "title": {
         "text": "Distribuição de Projetos por Situação"
        }
       }
      },
      "image/png": "[encoded data removed]",
      "text/html": [
       "<div>                            <div id=\"b8f5efb6-8af7-4aff-8426-ca342552acb4\" class=\"plotly-graph-div\" style=\"height:525px; width:100%;\"></div>            <script type=\"text/javascript\">                require([\"plotly\"], function(Plotly) {                    window.PLOTLYENV=window.PLOTLYENV || {};                                    if (document.getElementById(\"b8f5efb6-8af7-4aff-8426-ca342552acb4\")) {                    Plotly.newPlot(                        \"b8f5efb6-8af7-4aff-8426-ca342552acb4\",                        [{\"domain\":{\"x\":[0.0,1.0],\"y\":[0.0,1.0]},\"hole\":0.3,\"hovertemplate\":\"situacao=%{label}\\u003cbr\\u003etotal=%{value}\\u003cextra\\u003e\\u003c\\u002fextra\\u003e\",\"labels\":[\"Cadastrada\",\"Em execu\\u00e7\\u00e3o\",\"Conclu\\u00edda\",\"Inativada\",\"Cancelada\"],\"legendgroup\":\"\",\"name\":\"\",\"showlegend\":true,\"values\":[86,5,5,3,1],\"type\":\"pie\"}],                        {\"template\":{\"data\":{\"histogram2dcontour\":[{\"type\":\"histogram2dcontour\",\"colorbar\":{\"outlinewidth\":0,\"ticks\":\"\"},\"colorscale\":[[0.0,\"#0d0887\"],[0.1111111111111111,\"#46039f\"],[0.2222222222222222,\"#7201a8\"],[0.3333333333333333,\"#9c179e\"],[0.4444444444444444,\"#bd3786\"],[0.5555555555555556,\"#d8576b\"],[0.6666666666666666,\"#ed7953\"],[0.7777777777777778,\"#fb9f3a\"],[0.8888888888888888,\"#fdca26\"],[1.0,\"#f0f921\"]]}],\"choropleth\":[{\"type\":\"choropleth\",\"colorbar\":{\"outlinewidth\":0,\"ticks\":\"\"}}],\"histogram2d\":[{\"type\":\"histogram2d\",\"colorbar\":{\"outlinewidth\":0,\"ticks\":\"\"},\"colorscale\":[[0.0,\"#0d0887\"],[0.1111111111111111,\"#46039f\"],[0.2222222222222222,\"#7201a8\"],[0.3333333333333333,\"#9c179e\"],[0.4444444444444444,\"#bd3786\"],[0.5555555555555556,\"#d8576b\"],[0.6666666666666666,\"#ed7953\"],[0.7777777777777778,\"#fb9f3a\"],[0.8888888888888888,\"#fdca26\"],[1.0,\"#f0f921\"]]}],\"heatmap\":[{\"type\":\"heatmap\",\"colorbar\":{\"outlinewidth\":0,\"ticks\":\"\"},\"colorscale\":[[0.0,\"#0d0887\"],[0.1111111111111111,\"#46039f\"],[0.2222222222222222,\"#7201a8\"],[0.3333333333333333,\"#9c179e\"],[0.4444444444444444,\"#bd3786\"],[0.5555555555555556,\"#d8576b\"],[0.6666666666666666,\"#ed7953\"],[0.7777777777777778,\"#fb9f3a\"],[0.8888888888888888,\"#fdca26\"],[1.0,\"#f0f921\"]]}],\"heatmapgl\":[{\"type\":\"heatmapgl\",\"colorbar\":{\"outlinewidth\":0,\"ticks\":\"\"},\"colorscale\":[[0.0,\"#0d0887\"],[0.1111111111111111,\"#46039f\"],[0.2222222222222222,\"#7201a8\"],[0.3333333333333333,\"#9c179e\"],[0.4444444444444444,\"#bd3786\"],[0.5555555555555556,\"#d8576b\"],[0.6666666666666666,\"#ed7953\"],[0.7777777777777778,\"#fb9f3a\"],[0.8888888888888888,\"#fdca26\"],[1.0,\"#f0f921\"]]}],\"contourcarpet\":[{\"type\":\"contourcarpet\",\"colorbar\":{\"outlinewidth\":0,\"ticks\":\"\"}}],\"contour\":[{\"type\":\"contour\",\"colorbar\":{\"outlinewidth\":0,\"ticks\":\"\"},\"colorscale\":[[0.0,\"#0d0887\"],[0.1111111111111111,\"#46039f\"],[0.2222222222222222,\"#7201a8\"],[0.3333333333333333,\"#9c179e\"],[0.4444444444444444,\"#bd3786\"],[0.5555555555555556,\"#d8576b\"],[0.6666666666666666,\"#ed7953\"],[0.7777777777777778,\"#fb9f3a\"],[0.8888888888888888,\"#fdca26\"],[1.0,\"#f0f921\"]]}],\"surface\":[{\"type\":\"surface\",\"colorbar\":{\"outlinewidth\":0,\"ticks\":\"\"},\"colorscale\":[[0.0,\"#0d0887\"],[0.1111111111111111,\"#46039f\"],[0.2222222222222222,\"#7201a8\"],[0.3333333333333333,\"#9c179e\"],[0.4444444444444444,\"#bd3786\"],[0.5555555555555556,\"#d8576b\"],[0.6666666666666666,\"#ed7953\"],[0.7777777777777778,\"#fb9f3a\"],[0.8888888888888888,\"#fdca26\"],[1.0,\"#f0f921\"]]}],\"mesh3d\":[{\"type\":\"mesh3d\",\"colorbar\":{\"outlinewidth\":0,\"ticks\":\"\"}}],\"scatter\":[{\"fillpattern\":{\"fillmode\":\"overlay\",\"size\":10,\"solidity\":0.2},\"type\":\"scatter\"}],\"parcoords\":[{\"type\":\"parcoords\",\"line\":{\"colorbar\":{\"outlinewidth\":0,\"ticks\":\"\"}}}],\"scatterpolargl\":[{\"type\":\"scatterpolargl\",\"marker\":{\"colorbar\":{\"outlinewidth\":0,\"ticks\":\"\"}}}],\"bar\":[{\"error_x\":{\"color\":\"#2a3f5f\"},\"error_y\":{\"color\":\"#2a3f5f\"},\"marker\":{\"line\":{\"color\":\"#E5ECF6\",\"width\":0.5},\"pattern\":{\"fillmode\":\"overlay\",\"size\":10,\"solidity\":0.2}},\"type\":\"bar\"}],\"scattergeo\":[{\"type\":\"scattergeo\",\"marker\":{\"colorbar\":{\"outlinewidth\":0,\"ticks\":\"\"}}}],\"scatterpolar\":[{\"type\":\"scatterpolar\",\"marker\":{\"colorbar\":{\"outlinewidth\":0,\"ticks\":\"\"}}}],\"histogram\":[{\"marker\":{\"pattern\":{\"fillmode\":\"overlay\",\"size\":10,\"solidity\":0.2}},\"type\":\"histogram\"}],\"scattergl\":[{\"type\":\"scattergl\",\"marker\":{\"colorbar\":{\"outlinewidth\":0,\"ticks\":\"\"}}}],\"scatter3d\":[{\"type\":\"scatter3d\",\"line\":{\"colorbar\":{\"outlinewidth\":0,\"ticks\":\"\"}},\"marker\":{\"colorbar\":{\"outlinewidth\":0,\"ticks\":\"\"}}}],\"scattermapbox\":[{\"type\":\"scattermapbox\",\"marker\":{\"colorbar\":{\"outlinewidth\":0,\"ticks\":\"\"}}}],\"scatterternary\":[{\"type\":\"scatterternary\",\"marker\":{\"colorbar\":{\"outlinewidth\":0,\"ticks\":\"\"}}}],\"scattercarpet\":[{\"type\":\"scattercarpet\",\"marker\":{\"colorbar\":{\"outlinewidth\":0,\"ticks\":\"\"}}}],\"carpet\":[{\"aaxis\":{\"endlinecolor\":\"#2a3f5f\",\"gridcolor\":\"white\",\"linecolor\":\"white\",\"minorgridcolor\":\"white\",\"startlinecolor\":\"#2a3f5f\"},\"baxis\":{\"endlinecolor\":\"#2a3f5f\",\"gridcolor\":\"white\",\"linecolor\":\"white\",\"minorgridcolor\":\"white\",\"startlinecolor\":\"#2a3f5f\"},\"type\":\"carpet\"}],\"table\":[{\"cells\":{\"fill\":{\"color\":\"#EBF0F8\"},\"line\":{\"color\":\"white\"}},\"header\":{\"fill\":{\"color\":\"#C8D4E3\"},\"line\":{\"color\":\"white\"}},\"type\":\"table\"}],\"barpolar\":[{\"marker\":{\"line\":{\"color\":\"#E5ECF6\",\"width\":0.5},\"pattern\":{\"fillmode\":\"overlay\",\"size\":10,\"solidity\":0.2}},\"type\":\"barpolar\"}],\"pie\":[{\"automargin\":true,\"type\":\"pie\"}]},\"layout\":{\"autotypenumbers\":\"strict\",\"colorway\":[\"#636efa\",\"#EF553B\",\"#00cc96\",\"#ab63fa\",\"#FFA15A\",\"#19d3f3\",\"#FF6692\",\"#B6E880\",\"#FF97FF\",\"#FECB52\"],\"font\":{\"color\":\"#2a3f5f\"},\"hovermode\":\"closest\",\"hoverlabel\":{\"align\":\"left\"},\"paper_bgcolor\":\"white\",\"plot_bgcolor\":\"#E5ECF6\",\"polar\":{\"bgcolor\":\"#E5ECF6\",\"angularaxis\":{\"gridcolor\":\"white\",\"linecolor\":\"white\",\"ticks\":\"\"},\"radialaxis\":{\"gridcolor\":\"white\",\"linecolor\":\"white\",\"ticks\":\"\"}},\"ternary\":{\"bgcolor\":\"#E5ECF6\",\"aaxis\":{\"gridcolor\":\"white\",\"linecolor\":\"white\",\"ticks\":\"\"},\"baxis\":{\"gridcolor\":\"white\",\"linecolor\":\"white\",\"ticks\":\"\"},\"caxis\":{\"gridcolor\":\"white\",\"linecolor\":\"white\",\"ticks\":\"\"}},\"coloraxis\":{\"colorbar\":{\"outlinewidth\":0,\"ticks\":\"\"}},\"colorscale\":{\"sequential\":[[0.0,\"#0d0887\"],[0.1111111111111111,\"#46039f\"],[0.2222222222222222,\"#7201a8\"],[0.3333333333333333,\"#9c179e\"],[0.4444444444444444,\"#bd3786\"],[0.5555555555555556,\"#d8576b\"],[0.6666666666666666,\"#ed7953\"],[0.7777777777777778,\"#fb9f3a\"],[0.8888888888888888,\"#fdca26\"],[1.0,\"#f0f921\"]],\"sequentialminus\":[[0.0,\"#0d0887\"],[0.1111111111111111,\"#46039f\"],[0.2222222222222222,\"#7201a8\"],[0.3333333333333333,\"#9c179e\"],[0.4444444444444444,\"#bd3786\"],[0.5555555555555556,\"#d8576b\"],[0.6666666666666666,\"#ed7953\"],[0.7777777777777778,\"#fb9f3a\"],[0.8888888888888888,\"#fdca26\"],[1.0,\"#f0f921\"]],\"diverging\":[[0,\"#8e0152\"],[0.1,\"#c51b7d\"],[0.2,\"#de77ae\"],[0.3,\"#f1b6da\"],[0.4,\"#fde0ef\"],[0.5,\"#f7f7f7\"],[0.6,\"#e6f5d0\"],[0.7,\"#b8e186\"],[0.8,\"#7fbc41\"],[0.9,\"#4d9221\"],[1,\"#276419\"]]},\"xaxis\":{\"gridcolor\":\"white\",\"linecolor\":\"white\",\"ticks\":\"\",\"title\":{\"standoff\":15},\"zerolinecolor\":\"white\",\"automargin\":true,\"zerolinewidth\":2},\"yaxis\":{\"gridcolor\":\"white\",\"linecolor\":\"white\",\"ticks\":\"\",\"title\":{\"standoff\":15},\"zerolinecolor\":\"white\",\"automargin\":true,\"zerolinewidth\":2},\"scene\":{\"xaxis\":{\"backgroundcolor\":\"#E5ECF6\",\"gridcolor\":\"white\",\"linecolor\":\"white\",\"showbackground\":true,\"ticks\":\"\",\"zerolinecolor\":\"white\",\"gridwidth\":2},\"yaxis\":{\"backgroundcolor\":\"#E5ECF6\",\"gridcolor\":\"white\",\"linecolor\":\"white\",\"showbackground\":true,\"ticks\":\"\",\"zerolinecolor\":\"white\",\"gridwidth\":2},\"zaxis\":{\"backgroundcolor\":\"#E5ECF6\",\"gridcolor\":\"white\",\"linecolor\":\"white\",\"showbackground\":true,\"ticks\":\"\",\"zerolinecolor\":\"white\",\"gridwidth\":2}},\"shapedefaults\":{\"line\":{\"color\":\"#2a3f5f\"}},\"annotationdefaults\":{\"arrowcolor\":\"#2a3f5f\",\"arrowhead\":0,\"arrowwidth\":1},\"geo\":{\"bgcolor\":\"white\",\"landcolor\":\"#E5ECF6\",\"subunitcolor\":\"white\",\"showland\":true,\"showlakes\":true,\"lakecolor\":\"white\"},\"title\":{\"x\":0.05},\"mapbox\":{\"style\":\"light\"}}},\"legend\":{\"tracegroupgap\":0},\"title\":{\"text\":\"Distribui\\u00e7\\u00e3o de Projetos por Situa\\u00e7\\u00e3o\"}},                        {\"responsive\": true}                    ).then(function(){\n",
       "                            \n",
       "var gd = document.getElementById('b8f5efb6-8af7-4aff-8426-ca342552acb4');\n",
       "var x = new MutationObserver(function (mutations, observer) {{\n",
       "        var display = window.getComputedStyle(gd).display;\n",
       "        if (!display || display === 'none') {{\n",
       "            console.log([gd, 'removed!']);\n",
       "            Plotly.purge(gd);\n",
       "            observer.disconnect();\n",
       "        }}\n",
       "}});\n",
       "\n",
       "// Listen for the removal of the full notebook cells\n",
       "var notebookContainer = gd.closest('#notebook-container');\n",
       "if (notebookContainer) {{\n",
       "    x.observe(notebookContainer, {childList: true});\n",
       "}}\n",
       "\n",
       "// Listen for the clearing of the current output cell\n",
       "var outputEl = gd.closest('.output');\n",
       "if (outputEl) {{\n",
       "    x.observe(outputEl, {childList: true});\n",
       "}}\n",
       "\n",
       "                        })                };                });            </script>        </div>"
      ]
     },
     "metadata": {},
     "output_type": "display_data"
    }
   ],
   "source": [
    "situacao_df = Analisador.analise_situacao(df)\n",
    "\n",
    "print(\"Distribuição de Projetos por Situação:\\n\")\n",
    "display(situacao_df)\n",
    "\n",
    "fig = Visualizador.plot_distribuicao_situacao(situacao_df, tipo='plotly')\n",
    "fig.show()"
   ]
  },
  {
   "cell_type": "markdown",
   "metadata": {},
   "source": [
    "### 5.2 Análise de Executores\n",
    "\n",
    "Executores são as instituições responsáveis pela execução dos projetos de investimento."
   ]
  },
  {
   "cell_type": "code",
   "execution_count": 12,
   "metadata": {},
   "outputs": [
    {
     "name": "stdout",
     "output_type": "stream",
     "text": [
      "\n",
      "Top 15 Executores com Mais Projetos:\n",
      "\n"
     ]
    },
    {
     "data": {
      "text/html": [
       "<div>\n",
       "<style scoped>\n",
       "    .dataframe tbody tr th:only-of-type {\n",
       "        vertical-align: middle;\n",
       "    }\n",
       "\n",
       "    .dataframe tbody tr th {\n",
       "        vertical-align: top;\n",
       "    }\n",
       "\n",
       "    .dataframe thead th {\n",
       "        text-align: right;\n",
       "    }\n",
       "</style>\n",
       "<table border=\"1\" class=\"dataframe\">\n",
       "  <thead>\n",
       "    <tr style=\"text-align: right;\">\n",
       "      <th></th>\n",
       "      <th>nome</th>\n",
       "      <th>codigo</th>\n",
       "      <th>total_projetos</th>\n",
       "    </tr>\n",
       "  </thead>\n",
       "  <tbody>\n",
       "    <tr>\n",
       "      <th>0</th>\n",
       "      <td>INSTITUTO FED. ED. CIENCIA E TEC. DE BRASILIA</td>\n",
       "      <td>26356</td>\n",
       "      <td>14</td>\n",
       "    </tr>\n",
       "    <tr>\n",
       "      <th>1</th>\n",
       "      <td>FUNDACAO UNIVERSIDADE DE BRASILIA</td>\n",
       "      <td>26271</td>\n",
       "      <td>9</td>\n",
       "    </tr>\n",
       "    <tr>\n",
       "      <th>2</th>\n",
       "      <td>DEPARTAMENTO DE POLICIA FEDERAL</td>\n",
       "      <td>30108</td>\n",
       "      <td>9</td>\n",
       "    </tr>\n",
       "    <tr>\n",
       "      <th>3</th>\n",
       "      <td>MINISTÉRIO DA INTEGRAÇÃO E DO DESENVOLVIMENTO ...</td>\n",
       "      <td>308799</td>\n",
       "      <td>8</td>\n",
       "    </tr>\n",
       "    <tr>\n",
       "      <th>4</th>\n",
       "      <td>DEPARTAMENTO NACIONAL DE INFRAESTRUTURA DE TRA...</td>\n",
       "      <td>54844</td>\n",
       "      <td>8</td>\n",
       "    </tr>\n",
       "    <tr>\n",
       "      <th>5</th>\n",
       "      <td>COMANDO DA MARINHA</td>\n",
       "      <td>185</td>\n",
       "      <td>5</td>\n",
       "    </tr>\n",
       "    <tr>\n",
       "      <th>6</th>\n",
       "      <td>POLICIA CIVIL DO DISTRITO FEDERAL</td>\n",
       "      <td>37115482000135</td>\n",
       "      <td>4</td>\n",
       "    </tr>\n",
       "    <tr>\n",
       "      <th>7</th>\n",
       "      <td>CORPO DE BOMBEIROS MILITAR DO DISTRITO FEDERAL</td>\n",
       "      <td>8977914000119</td>\n",
       "      <td>4</td>\n",
       "    </tr>\n",
       "    <tr>\n",
       "      <th>8</th>\n",
       "      <td>COMPANHIA DE DESENVOLVIMENTO DOS VALES DO SÃO ...</td>\n",
       "      <td>169</td>\n",
       "      <td>3</td>\n",
       "    </tr>\n",
       "    <tr>\n",
       "      <th>9</th>\n",
       "      <td>DEPARTAMENTO DE ESTRADAS DE RODAGEM DO DISTRIT...</td>\n",
       "      <td>70532000103</td>\n",
       "      <td>3</td>\n",
       "    </tr>\n",
       "  </tbody>\n",
       "</table>\n",
       "</div>"
      ],
      "text/plain": [
       "                                                nome          codigo  \\\n",
       "0      INSTITUTO FED. ED. CIENCIA E TEC. DE BRASILIA           26356   \n",
       "1                  FUNDACAO UNIVERSIDADE DE BRASILIA           26271   \n",
       "2                    DEPARTAMENTO DE POLICIA FEDERAL           30108   \n",
       "3  MINISTÉRIO DA INTEGRAÇÃO E DO DESENVOLVIMENTO ...          308799   \n",
       "4  DEPARTAMENTO NACIONAL DE INFRAESTRUTURA DE TRA...           54844   \n",
       "5                                 COMANDO DA MARINHA             185   \n",
       "6                  POLICIA CIVIL DO DISTRITO FEDERAL  37115482000135   \n",
       "7     CORPO DE BOMBEIROS MILITAR DO DISTRITO FEDERAL   8977914000119   \n",
       "8  COMPANHIA DE DESENVOLVIMENTO DOS VALES DO SÃO ...             169   \n",
       "9  DEPARTAMENTO DE ESTRADAS DE RODAGEM DO DISTRIT...     70532000103   \n",
       "\n",
       "   total_projetos  \n",
       "0              14  \n",
       "1               9  \n",
       "2               9  \n",
       "3               8  \n",
       "4               8  \n",
       "5               5  \n",
       "6               4  \n",
       "7               4  \n",
       "8               3  \n",
       "9               3  "
      ]
     },
     "metadata": {},
     "output_type": "display_data"
    },
    {
     "name": "stdout",
     "output_type": "stream",
     "text": [
      "\n",
      "Estatísticas dos Executores:\n",
      "  - Total de executores: 15\n",
      "  - Executor com mais projetos: 14\n",
      "  - Média de projetos por executor: 5.2\n",
      "  - Mediana de projetos: 4\n"
     ]
    }
   ],
   "source": [
    "n_executores = 15\n",
    "df_top_executores = loader.load_top_executores(n=n_executores)\n",
    "\n",
    "print(f\"\\nTop {n_executores} Executores com Mais Projetos:\\n\")\n",
    "display(df_top_executores.head(10))\n",
    "\n",
    "print(f\"\\nEstatísticas dos Executores:\")\n",
    "print(f\"  - Total de executores: {len(df_top_executores)}\")\n",
    "print(f\"  - Executor com mais projetos: {df_top_executores.iloc[0]['total_projetos']}\")\n",
    "print(f\"  - Média de projetos por executor: {df_top_executores['total_projetos'].mean():.1f}\")\n",
    "print(f\"  - Mediana de projetos: {df_top_executores['total_projetos'].median():.0f}\")"
   ]
  },
  {
   "cell_type": "code",
   "execution_count": null,
   "metadata": {},
   "outputs": [],
   "source": [
    "fig = Visualizador.plot_top_executores(df_top_executores, n=n_executores, tipo='plotly')\n",
    "fig.show()"
   ]
  },
  {
   "cell_type": "markdown",
   "metadata": {},
   "source": [
    "### 5.3 Análise de Repassadores\n",
    "\n",
    "Repassadores são os órgãos responsáveis por repassar recursos para os projetos."
   ]
  },
  {
   "cell_type": "code",
   "execution_count": 13,
   "metadata": {},
   "outputs": [
    {
     "name": "stdout",
     "output_type": "stream",
     "text": [
      "\n",
      "Top 10 Repassadores por Valor Total:\n",
      "\n"
     ]
    },
    {
     "data": {
      "text/html": [
       "<div>\n",
       "<style scoped>\n",
       "    .dataframe tbody tr th:only-of-type {\n",
       "        vertical-align: middle;\n",
       "    }\n",
       "\n",
       "    .dataframe tbody tr th {\n",
       "        vertical-align: top;\n",
       "    }\n",
       "\n",
       "    .dataframe thead th {\n",
       "        text-align: right;\n",
       "    }\n",
       "</style>\n",
       "<table border=\"1\" class=\"dataframe\">\n",
       "  <thead>\n",
       "    <tr style=\"text-align: right;\">\n",
       "      <th></th>\n",
       "      <th>nome</th>\n",
       "      <th>codigo</th>\n",
       "      <th>total_projetos</th>\n",
       "      <th>valor_total</th>\n",
       "    </tr>\n",
       "  </thead>\n",
       "  <tbody>\n",
       "    <tr>\n",
       "      <th>0</th>\n",
       "      <td>MINISTÉRIO DA INTEGRAÇÃO E DO DESENVOLVIMENTO ...</td>\n",
       "      <td>308799</td>\n",
       "      <td>9</td>\n",
       "      <td>466,770,225.00</td>\n",
       "    </tr>\n",
       "    <tr>\n",
       "      <th>1</th>\n",
       "      <td>FUNDACAO UNIVERSIDADE DE BRASILIA</td>\n",
       "      <td>26271</td>\n",
       "      <td>9</td>\n",
       "      <td>43,660,973.82</td>\n",
       "    </tr>\n",
       "    <tr>\n",
       "      <th>2</th>\n",
       "      <td>MINISTÉRIO DA JUSTIÇA E SEGURANÇA PÚBLICA</td>\n",
       "      <td>235881</td>\n",
       "      <td>1</td>\n",
       "      <td>39,717,442.17</td>\n",
       "    </tr>\n",
       "    <tr>\n",
       "      <th>3</th>\n",
       "      <td>COMANDO DA MARINHA</td>\n",
       "      <td>185</td>\n",
       "      <td>2</td>\n",
       "      <td>28,042,850.24</td>\n",
       "    </tr>\n",
       "    <tr>\n",
       "      <th>4</th>\n",
       "      <td>MINISTÉRIO DA EDUCAÇÃO</td>\n",
       "      <td>244</td>\n",
       "      <td>14</td>\n",
       "      <td>23,596,560.00</td>\n",
       "    </tr>\n",
       "    <tr>\n",
       "      <th>5</th>\n",
       "      <td>MINISTÉRIO DE MINAS E ENERGIA</td>\n",
       "      <td>2852</td>\n",
       "      <td>2</td>\n",
       "      <td>13,418,000.00</td>\n",
       "    </tr>\n",
       "    <tr>\n",
       "      <th>6</th>\n",
       "      <td>FUNDO NACIONAL DE DESENVOLVIMENTO DA EDUCAÇÃO</td>\n",
       "      <td>253</td>\n",
       "      <td>1</td>\n",
       "      <td>12,319,519.51</td>\n",
       "    </tr>\n",
       "    <tr>\n",
       "      <th>7</th>\n",
       "      <td>FUNDO DE DEFESA DOS DIREITOS DIFUSOS</td>\n",
       "      <td>30905</td>\n",
       "      <td>1</td>\n",
       "      <td>11,285,163.72</td>\n",
       "    </tr>\n",
       "    <tr>\n",
       "      <th>8</th>\n",
       "      <td>MINISTÉRIO DAS CIDADES</td>\n",
       "      <td>308798</td>\n",
       "      <td>1</td>\n",
       "      <td>10,800,000.00</td>\n",
       "    </tr>\n",
       "    <tr>\n",
       "      <th>9</th>\n",
       "      <td>FUNDO CONSTITUCIONAL DO DISTRITO FEDERAL</td>\n",
       "      <td>25915</td>\n",
       "      <td>5</td>\n",
       "      <td>10,271,393.20</td>\n",
       "    </tr>\n",
       "  </tbody>\n",
       "</table>\n",
       "</div>"
      ],
      "text/plain": [
       "                                                nome  codigo  total_projetos  \\\n",
       "0  MINISTÉRIO DA INTEGRAÇÃO E DO DESENVOLVIMENTO ...  308799               9   \n",
       "1                  FUNDACAO UNIVERSIDADE DE BRASILIA   26271               9   \n",
       "2          MINISTÉRIO DA JUSTIÇA E SEGURANÇA PÚBLICA  235881               1   \n",
       "3                                 COMANDO DA MARINHA     185               2   \n",
       "4                             MINISTÉRIO DA EDUCAÇÃO     244              14   \n",
       "5                      MINISTÉRIO DE MINAS E ENERGIA    2852               2   \n",
       "6      FUNDO NACIONAL DE DESENVOLVIMENTO DA EDUCAÇÃO     253               1   \n",
       "7               FUNDO DE DEFESA DOS DIREITOS DIFUSOS   30905               1   \n",
       "8                             MINISTÉRIO DAS CIDADES  308798               1   \n",
       "9           FUNDO CONSTITUCIONAL DO DISTRITO FEDERAL   25915               5   \n",
       "\n",
       "     valor_total  \n",
       "0 466,770,225.00  \n",
       "1  43,660,973.82  \n",
       "2  39,717,442.17  \n",
       "3  28,042,850.24  \n",
       "4  23,596,560.00  \n",
       "5  13,418,000.00  \n",
       "6  12,319,519.51  \n",
       "7  11,285,163.72  \n",
       "8  10,800,000.00  \n",
       "9  10,271,393.20  "
      ]
     },
     "metadata": {},
     "output_type": "display_data"
    },
    {
     "name": "stdout",
     "output_type": "stream",
     "text": [
      "\n",
      "Estatísticas dos Repassadores:\n",
      "  - Total de repassadores: 25\n",
      "  - Valor total: R$ 696,914,572.93\n",
      "  - Média de valor por repassador: R$ 27,876,582.92\n",
      "  - Total de projetos: 69\n"
     ]
    }
   ],
   "source": [
    "df_repassadores = loader.load_valores_por_repassador()\n",
    "n_repassadores = 10\n",
    "df_top_repassadores = df_repassadores.head(n_repassadores)\n",
    "\n",
    "print(f\"\\nTop {n_repassadores} Repassadores por Valor Total:\\n\")\n",
    "display(df_top_repassadores)\n",
    "\n",
    "print(f\"\\nEstatísticas dos Repassadores:\")\n",
    "print(f\"  - Total de repassadores: {len(df_repassadores)}\")\n",
    "print(f\"  - Valor total: R$ {df_repassadores['valor_total'].sum():,.2f}\")\n",
    "print(f\"  - Média de valor por repassador: R$ {df_repassadores['valor_total'].mean():,.2f}\")\n",
    "print(f\"  - Total de projetos: {df_repassadores['total_projetos'].sum()}\")"
   ]
  },
  {
   "cell_type": "code",
   "execution_count": null,
   "metadata": {},
   "outputs": [],
   "source": [
    "fig = Visualizador.plot_valores_repassadores(df_top_repassadores, n=n_repassadores, tipo='plotly')\n",
    "fig.show()"
   ]
  },
  {
   "cell_type": "markdown",
   "metadata": {},
   "source": [
    "### 5.4 Comparação: Top 5 Repassadores"
   ]
  },
  {
   "cell_type": "code",
   "execution_count": 14,
   "metadata": {},
   "outputs": [
    {
     "name": "stdout",
     "output_type": "stream",
     "text": [
      "\n",
      "================================================================================\n",
      "Top 5 Repassadores por Valor vs. Quantidade de Projetos\n",
      "================================================================================\n",
      "\n",
      "Top 5 por Valor Total:\n"
     ]
    },
    {
     "data": {
      "text/html": [
       "<div>\n",
       "<style scoped>\n",
       "    .dataframe tbody tr th:only-of-type {\n",
       "        vertical-align: middle;\n",
       "    }\n",
       "\n",
       "    .dataframe tbody tr th {\n",
       "        vertical-align: top;\n",
       "    }\n",
       "\n",
       "    .dataframe thead th {\n",
       "        text-align: right;\n",
       "    }\n",
       "</style>\n",
       "<table border=\"1\" class=\"dataframe\">\n",
       "  <thead>\n",
       "    <tr style=\"text-align: right;\">\n",
       "      <th></th>\n",
       "      <th>nome</th>\n",
       "      <th>valor_total</th>\n",
       "      <th>total_projetos</th>\n",
       "    </tr>\n",
       "  </thead>\n",
       "  <tbody>\n",
       "    <tr>\n",
       "      <th>0</th>\n",
       "      <td>MINISTÉRIO DA INTEGRAÇÃO E DO DESENVOLVIMENTO ...</td>\n",
       "      <td>466,770,225.00</td>\n",
       "      <td>9</td>\n",
       "    </tr>\n",
       "    <tr>\n",
       "      <th>1</th>\n",
       "      <td>FUNDACAO UNIVERSIDADE DE BRASILIA</td>\n",
       "      <td>43,660,973.82</td>\n",
       "      <td>9</td>\n",
       "    </tr>\n",
       "    <tr>\n",
       "      <th>2</th>\n",
       "      <td>MINISTÉRIO DA JUSTIÇA E SEGURANÇA PÚBLICA</td>\n",
       "      <td>39,717,442.17</td>\n",
       "      <td>1</td>\n",
       "    </tr>\n",
       "    <tr>\n",
       "      <th>3</th>\n",
       "      <td>COMANDO DA MARINHA</td>\n",
       "      <td>28,042,850.24</td>\n",
       "      <td>2</td>\n",
       "    </tr>\n",
       "    <tr>\n",
       "      <th>4</th>\n",
       "      <td>MINISTÉRIO DA EDUCAÇÃO</td>\n",
       "      <td>23,596,560.00</td>\n",
       "      <td>14</td>\n",
       "    </tr>\n",
       "  </tbody>\n",
       "</table>\n",
       "</div>"
      ],
      "text/plain": [
       "                                                nome    valor_total  \\\n",
       "0  MINISTÉRIO DA INTEGRAÇÃO E DO DESENVOLVIMENTO ... 466,770,225.00   \n",
       "1                  FUNDACAO UNIVERSIDADE DE BRASILIA  43,660,973.82   \n",
       "2          MINISTÉRIO DA JUSTIÇA E SEGURANÇA PÚBLICA  39,717,442.17   \n",
       "3                                 COMANDO DA MARINHA  28,042,850.24   \n",
       "4                             MINISTÉRIO DA EDUCAÇÃO  23,596,560.00   \n",
       "\n",
       "   total_projetos  \n",
       "0               9  \n",
       "1               9  \n",
       "2               1  \n",
       "3               2  \n",
       "4              14  "
      ]
     },
     "metadata": {},
     "output_type": "display_data"
    },
    {
     "name": "stdout",
     "output_type": "stream",
     "text": [
      "\n",
      "Top 5 por Quantidade de Projetos:\n"
     ]
    },
    {
     "data": {
      "text/html": [
       "<div>\n",
       "<style scoped>\n",
       "    .dataframe tbody tr th:only-of-type {\n",
       "        vertical-align: middle;\n",
       "    }\n",
       "\n",
       "    .dataframe tbody tr th {\n",
       "        vertical-align: top;\n",
       "    }\n",
       "\n",
       "    .dataframe thead th {\n",
       "        text-align: right;\n",
       "    }\n",
       "</style>\n",
       "<table border=\"1\" class=\"dataframe\">\n",
       "  <thead>\n",
       "    <tr style=\"text-align: right;\">\n",
       "      <th></th>\n",
       "      <th>nome</th>\n",
       "      <th>total_projetos</th>\n",
       "      <th>valor_total</th>\n",
       "    </tr>\n",
       "  </thead>\n",
       "  <tbody>\n",
       "    <tr>\n",
       "      <th>4</th>\n",
       "      <td>MINISTÉRIO DA EDUCAÇÃO</td>\n",
       "      <td>14</td>\n",
       "      <td>23,596,560.00</td>\n",
       "    </tr>\n",
       "    <tr>\n",
       "      <th>0</th>\n",
       "      <td>MINISTÉRIO DA INTEGRAÇÃO E DO DESENVOLVIMENTO ...</td>\n",
       "      <td>9</td>\n",
       "      <td>466,770,225.00</td>\n",
       "    </tr>\n",
       "    <tr>\n",
       "      <th>1</th>\n",
       "      <td>FUNDACAO UNIVERSIDADE DE BRASILIA</td>\n",
       "      <td>9</td>\n",
       "      <td>43,660,973.82</td>\n",
       "    </tr>\n",
       "    <tr>\n",
       "      <th>9</th>\n",
       "      <td>FUNDO CONSTITUCIONAL DO DISTRITO FEDERAL</td>\n",
       "      <td>5</td>\n",
       "      <td>10,271,393.20</td>\n",
       "    </tr>\n",
       "    <tr>\n",
       "      <th>13</th>\n",
       "      <td>MINISTÉRIO DA AGRICULTURA, PECUÁRIA E ABASTECI...</td>\n",
       "      <td>3</td>\n",
       "      <td>3,560,523.40</td>\n",
       "    </tr>\n",
       "  </tbody>\n",
       "</table>\n",
       "</div>"
      ],
      "text/plain": [
       "                                                 nome  total_projetos  \\\n",
       "4                              MINISTÉRIO DA EDUCAÇÃO              14   \n",
       "0   MINISTÉRIO DA INTEGRAÇÃO E DO DESENVOLVIMENTO ...               9   \n",
       "1                   FUNDACAO UNIVERSIDADE DE BRASILIA               9   \n",
       "9            FUNDO CONSTITUCIONAL DO DISTRITO FEDERAL               5   \n",
       "13  MINISTÉRIO DA AGRICULTURA, PECUÁRIA E ABASTECI...               3   \n",
       "\n",
       "      valor_total  \n",
       "4   23,596,560.00  \n",
       "0  466,770,225.00  \n",
       "1   43,660,973.82  \n",
       "9   10,271,393.20  \n",
       "13   3,560,523.40  "
      ]
     },
     "metadata": {},
     "output_type": "display_data"
    }
   ],
   "source": [
    "print(\"\\n\" + \"=\"*80)\n",
    "print(\"Top 5 Repassadores por Valor vs. Quantidade de Projetos\")\n",
    "print(\"=\"*80)\n",
    "\n",
    "top5_valor = df_repassadores.nlargest(5, 'valor_total')[['nome', 'valor_total', 'total_projetos']]\n",
    "print(\"\\nTop 5 por Valor Total:\")\n",
    "display(top5_valor)\n",
    "\n",
    "top5_projetos = df_repassadores.nlargest(5, 'total_projetos')[['nome', 'total_projetos', 'valor_total']]\n",
    "print(\"\\nTop 5 por Quantidade de Projetos:\")\n",
    "display(top5_projetos)"
   ]
  },
  {
   "cell_type": "markdown",
   "metadata": {},
   "source": [
    "### 5.5 Análise Temporal\n",
    "\n",
    "Evolução dos cadastros de projetos ao longo do tempo."
   ]
  },
  {
   "cell_type": "code",
   "execution_count": null,
   "metadata": {},
   "outputs": [],
   "source": "df_ano = loader.load_projetos_por_ano()\n\nif not df_ano.empty:\n    print(\"\\nEvolução de Cadastros por Ano:\\n\")\n    display(df_ano)\n    \n    print(f\"\\nEstatísticas Temporais:\")\n    print(f\"  - Ano com mais cadastros: {int(df_ano.loc[df_ano['total_projetos'].idxmax(), 'ano'])}\")\n    print(f\"  - Total no pico: {int(df_ano['total_projetos'].max())}\")\n    print(f\"  - Média por ano: {df_ano['total_projetos'].mean():.1f}\")\n    \n    fig = Visualizador.plot_timeline_projetos(df_ano, tipo='plotly')\n    fig.show()\nelse:\n    print(\"AVISO: Não há dados temporais disponíveis\")"
  },
  {
   "cell_type": "markdown",
   "metadata": {},
   "source": [
    "### 5.6 Análise de Distribuição por Mês"
   ]
  },
  {
   "cell_type": "code",
   "execution_count": null,
   "metadata": {},
   "outputs": [],
   "source": "if 'mes_cadastro' in df.columns:\n    df_mes = df.groupby('mes_cadastro').size().reset_index(name='total_projetos')\n    df_mes = df_mes.sort_values('mes_cadastro')\n    \n    meses_map = {\n        1: 'Janeiro', 2: 'Fevereiro', 3: 'Março', 4: 'Abril',\n        5: 'Maio', 6: 'Junho', 7: 'Julho', 8: 'Agosto',\n        9: 'Setembro', 10: 'Outubro', 11: 'Novembro', 12: 'Dezembro'\n    }\n    \n    df_mes['mes_nome'] = df_mes['mes_cadastro'].map(meses_map)\n    \n    print(\"\\nDistribuição de Cadastros por Mês:\\n\")\n    display(df_mes[['mes_nome', 'total_projetos']])\n    \n    fig_mes = px.bar(\n        df_mes,\n        x='mes_nome',\n        y='total_projetos',\n        title='Distribuição de Cadastros por Mês',\n        labels={'mes_nome': 'Mês', 'total_projetos': 'Total de Projetos'},\n        color='total_projetos',\n        color_continuous_scale='Blues'\n    )\n    fig_mes.update_layout(height=500)\n    fig_mes.show()\n    \n    print(\"\\nTop 3 Meses com Mais Cadastros:\")\n    top_meses = df_mes.nlargest(3, 'total_projetos')[['mes_nome', 'total_projetos']]\n    display(top_meses)\nelse:\n    print(\"AVISO: Coluna 'mes_cadastro' não encontrada\")"
  },
  {
   "cell_type": "markdown",
   "metadata": {},
   "source": [
    "### 5.7 Análise por Período (Filtro por Anos)"
   ]
  },
  {
   "cell_type": "code",
   "execution_count": null,
   "metadata": {},
   "outputs": [],
   "source": "if 'ano_cadastro' in df.columns:\n    anos_disponiveis = sorted(df['ano_cadastro'].dropna().unique())\n    \n    if len(anos_disponiveis) > 0:\n        print(f\"\\nAnos disponíveis: {anos_disponiveis}\")\n        \n        ano_inicio = anos_disponiveis[0]\n        ano_fim = anos_disponiveis[-1]\n        \n        df_filtrado = df[(df['ano_cadastro'] >= ano_inicio) & (df['ano_cadastro'] <= ano_fim)]\n        \n        print(f\"\\nAnálise do Período: {int(ano_inicio)} - {int(ano_fim)}\")\n        print(f\"  - Total de projetos: {len(df_filtrado):,}\")\n        \n        if 'situacao' in df_filtrado.columns:\n            cadastrados = len(df_filtrado[df_filtrado['situacao'] == 'Cadastrada'])\n            concluidos = len(df_filtrado[df_filtrado['situacao'] == 'Concluída'])\n            print(f\"  - Cadastrados: {cadastrados:,}\")\n            print(f\"  - Concluídos: {concluidos:,}\")\nelse:\n    print(\"AVISO: Coluna 'ano_cadastro' não encontrada\")"
  },
  {
   "cell_type": "markdown",
   "metadata": {},
   "source": [
    "## 6. Análise Completa com a Classe Analisador"
   ]
  },
  {
   "cell_type": "code",
   "execution_count": 18,
   "metadata": {},
   "outputs": [
    {
     "name": "stdout",
     "output_type": "stream",
     "text": [
      "\n",
      "================================================================================\n",
      "ANÁLISE COMPLETA DO DATASET\n",
      "================================================================================\n",
      "\n",
      "RESUMO:\n",
      "  - total_registros: 100\n",
      "  - total_colunas: 31\n",
      "  - colunas: ['id', 'id_unico', 'nome', 'cep', 'endereco', 'descricao', 'funcao_social', 'meta_global', 'data_inicial_prevista', 'data_final_prevista', 'data_inicial_efetiva', 'data_final_efetiva', 'data_cadastro', 'data_situacao', 'especie', 'natureza', 'natureza_outras', 'situacao', 'desc_plano_nacional_politica_vinculado', 'uf', 'qdt_empregos_gerados', 'desc_populacao_beneficiada', 'populacao_beneficiada', 'observacoes_pertinentes', 'is_modelada_por_bim', 'created_at', 'updated_at', 'duracao_prevista_dias', 'duracao_efetiva_dias', 'ano_cadastro', 'mes_cadastro']\n",
      "  - tipos_dados: {dtype('O'): 15, dtype('<M8[ns]'): 8, Int64Dtype(): 2, dtype('float64'): 2, dtype('int32'): 2, dtype('int64'): 1, dtype('bool'): 1}\n",
      "  - memoria_total_mb: 0.29\n",
      "  - valores_nulos_total: 869\n",
      "\n",
      "SITUACAO:\n",
      "  [{'situacao': 'Cadastrada', 'total': 86}, {'situacao': 'Em execução', 'total': 5}, {'situacao': 'Concluída', 'total': 5}, {'situacao': 'Inativada', 'total': 3}, {'situacao': 'Cancelada', 'total': 1}]\n",
      "\n",
      "TEMPORAL:\n",
      "  [{'ano': 2021, 'total_projetos': 42}, {'ano': 2022, 'total_projetos': 25}, {'ano': 2023, 'total_projetos': 23}, {'ano': 2024, 'total_projetos': 6}, {'ano': 2025, 'total_projetos': 4}]\n",
      "\n",
      "EMPREGOS:\n",
      "  - total: 3\n",
      "  - media: 59.666666666666664\n",
      "  - mediana: 50.0\n",
      "  - minimo: 30.0\n",
      "  - maximo: 99.0\n",
      "  - desvio_padrao: 35.50117368951812\n",
      "  - soma_total: 179.0\n",
      "\n",
      "POPULACAO:\n",
      "  - total: 3\n",
      "  - media: 62795.0\n",
      "  - mediana: 8000.0\n",
      "  - minimo: 385.0\n",
      "  - maximo: 180000.0\n",
      "  - desvio_padrao: 101573.89465310464\n",
      "  - soma_total: 188385.0\n"
     ]
    }
   ],
   "source": [
    "analise = Analisador.analise_completa(df)\n",
    "\n",
    "print(\"\\n\" + \"=\"*80)\n",
    "print(\"ANÁLISE COMPLETA DO DATASET\")\n",
    "print(\"=\"*80)\n",
    "\n",
    "for secao, dados in analise.items():\n",
    "    print(f\"\\n{secao.upper().replace('_', ' ')}:\")\n",
    "    if isinstance(dados, dict):\n",
    "        for key, value in dados.items():\n",
    "            print(f\"  - {key}: {value}\")\n",
    "    else:\n",
    "        print(f\"  {dados}\")"
   ]
  },
  {
   "cell_type": "markdown",
   "metadata": {},
   "source": [
    "## 7. Estrutura do Banco de Dados\n",
    "\n",
    "### 7.1 Schema Implementado\n",
    "\n",
    "O banco de dados PostgreSQL foi estruturado com as seguintes tabelas:\n",
    "\n",
    "#### Tabela Principal: `projetos_investimento`\n",
    "- `id`: Primary Key (auto-increment)\n",
    "- `id_unico`: Identificador único do projeto (String, indexed)\n",
    "- `uf`: Unidade Federativa (String)\n",
    "- `situacao`: Situação do projeto (String)\n",
    "- `data_cadastro`: Data de cadastro (DateTime)\n",
    "- `executor_id`: Foreign Key → `executores.id`\n",
    "- `tomador_id`: Foreign Key → `tomadores.id`\n",
    "- `repassador_id`: Foreign Key → `repassadores.id`\n",
    "- Outros campos de metadados\n",
    "\n",
    "#### Tabelas Relacionadas:\n",
    "- **`executores`**: Instituições executoras\n",
    "- **`tomadores`**: Tomadores de recursos\n",
    "- **`repassadores`**: Órgãos repassadores\n",
    "\n",
    "### 7.2 Relacionamentos\n",
    "\n",
    "```\n",
    "projetos_investimento\n",
    "    ├── executor_id → executores(id)\n",
    "    ├── tomador_id → tomadores(id)\n",
    "    └── repassador_id → repassadores(id)\n",
    "```\n",
    "\n",
    "### 7.3 Processo de Inserção\n",
    "\n",
    "Implementado na classe `DataProcessor` (`api/services/data_processor.py`):\n",
    "1. Extração de entidades relacionadas\n",
    "2. Criação ou busca de registros existentes\n",
    "3. Inserção do projeto com relacionamentos\n",
    "4. Tratamento de duplicatas via `id_unico`"
   ]
  },
  {
   "cell_type": "markdown",
   "metadata": {},
   "source": [
    "## 8. API FastAPI - Backend\n",
    "\n",
    "### 8.1 Endpoints Implementados\n",
    "\n",
    "A API FastAPI (`api/main.py`) expõe os seguintes endpoints:\n",
    "\n",
    "#### Health & Status\n",
    "- `GET /` - Mensagem de boas-vindas\n",
    "- `GET /health` - Status da API e banco de dados\n",
    "- `GET /ready` - Readiness check (verifica se banco está populado)\n",
    "\n",
    "#### Sincronização\n",
    "- `POST /sync` - Sincronização manual com a API ObrasGov\n",
    "  - Parâmetro: `uf` (default: \"DF\")\n",
    "  - Retorna: total de projetos, executores, tomadores e repassadores\n",
    "\n",
    "#### Consulta de Projetos\n",
    "- `GET /projetos` - Lista projetos com paginação\n",
    "  - Parâmetros: `skip`, `limit`, `uf`\n",
    "- `GET /projetos/{id_unico}` - Busca projeto específico\n",
    "\n",
    "### 8.2 Funcionalidades\n",
    "\n",
    "- **Sync Automático**: Executado no startup via `lifespan`\n",
    "- **Agendamento**: APScheduler roda sync diário às 2h\n",
    "- **Documentação**: Swagger UI em `/docs`\n",
    "- **Healthcheck**: Docker usa `/ready` para garantir que banco está populado"
   ]
  },
  {
   "cell_type": "markdown",
   "metadata": {},
   "source": [
    "## 9. Dashboard Streamlit\n",
    "\n",
    "### 9.1 Arquitetura\n",
    "\n",
    "Dashboard interativo implementado em `streamlit/app.py` com:\n",
    "- **Página única** com navegação por âncoras\n",
    "- **Cache inteligente** para otimização de performance\n",
    "- **Visualizações interativas** com Plotly\n",
    "- **Filtros dinâmicos** e busca\n",
    "\n",
    "### 9.2 Seções do Dashboard\n",
    "\n",
    "1. **Visão Geral**\n",
    "   - Métricas principais\n",
    "   - Qualidade dos dados\n",
    "   - Distribuição por situação\n",
    "\n",
    "2. **Executores**\n",
    "   - Top N executores\n",
    "   - Ranking e métricas\n",
    "   - Busca por nome\n",
    "\n",
    "3. **Repassadores**\n",
    "   - Análise por valor total\n",
    "   - Top 5 por valor vs. quantidade\n",
    "   - Busca por nome\n",
    "\n",
    "4. **Análise Temporal**\n",
    "   - Evolução anual\n",
    "   - Distribuição mensal\n",
    "   - Filtros por período\n",
    "\n",
    "### 9.3 Acesso\n",
    "\n",
    "```bash\n",
    "docker-compose up\n",
    "```\n",
    "\n",
    "Dashboard disponível em: `http://localhost:8501`"
   ]
  },
  {
   "cell_type": "markdown",
   "metadata": {},
   "source": [
    "## 10. Infraestrutura Docker\n",
    "\n",
    "### 10.1 Arquitetura de Containers\n",
    "\n",
    "```yaml\n",
    "services:\n",
    "  postgres:      # PostgreSQL 15-alpine\n",
    "    - Porta: 5455:5432\n",
    "    - Volume: postgres_data\n",
    "    - Healthcheck: pg_isready\n",
    "  \n",
    "  api:           # FastAPI + Uvicorn\n",
    "    - Porta: 8000:8000\n",
    "    - Depends: postgres (healthy)\n",
    "    - Healthcheck: /ready endpoint\n",
    "    - Sync inicial automático\n",
    "  \n",
    "  streamlit:     # Dashboard\n",
    "    - Porta: 8501:8501\n",
    "    - Depends: postgres (healthy) + api (healthy)\n",
    "    - Só sobe após banco populado\n",
    "```\n",
    "\n",
    "### 10.2 Fluxo de Inicialização\n",
    "\n",
    "1. PostgreSQL sobe e passa healthcheck\n",
    "2. API inicia e executa sync inicial\n",
    "3. API passa healthcheck quando banco está populado\n",
    "4. Streamlit finalmente inicia\n",
    "\n",
    "### 10.3 Comandos Úteis\n",
    "\n",
    "```bash\n",
    "# Subir ambiente completo\n",
    "docker-compose up --build\n",
    "\n",
    "# Parar e limpar\n",
    "docker-compose down -v\n",
    "\n",
    "# Ver logs\n",
    "docker-compose logs -f api\n",
    "docker-compose logs -f streamlit\n",
    "```"
   ]
  },
  {
   "cell_type": "markdown",
   "metadata": {},
   "source": "## 11. Conclusões\n\n### 11.1 Implementações Realizadas\n\nEste projeto demonstra a implementação completa de um **pipeline ETL em produção**:\n\n**Extração**\n- Cliente robusto para API REST com paginação e retry\n- Tratamento de rate limiting\n- Programação assíncrona para eficiência\n\n**Transformação**\n- Pipeline de normalização automatizado\n- Criação de colunas derivadas\n- Validação e diagnóstico de qualidade\n\n**Loading**\n- Banco relacional normalizado (3NF)\n- Relacionamentos entre entidades\n- Tratamento de duplicatas\n\n**Análise**\n- Classes reutilizáveis para análise\n- Visualizações interativas\n- Dashboard completo\n\n**Infraestrutura**\n- Containerização completa\n- Orquestração com healthchecks\n- Sync automático agendado\n\n### 11.2 Tecnologias Dominadas\n\n- **Backend**: FastAPI, SQLAlchemy, PostgreSQL\n- **Análise**: Pandas, NumPy, Análise exploratória\n- **Visualização**: Plotly, Matplotlib, Seaborn, Streamlit\n- **DevOps**: Docker, Docker Compose\n- **Arquitetura**: API REST, Bancos relacionais, ETL\n\n### 11.3 Próximos Passos\n\nPossíveis melhorias para o projeto:\n\n1. **Testes**: Implementar testes unitários e integração\n2. **Monitoramento**: Adicionar logs estruturados e métricas\n3. **Cache**: Redis para otimização de queries\n4. **CI/CD**: Pipeline de deploy automatizado\n5. **Documentação**: Expandir documentação técnica\n6. **ML**: Modelos preditivos para análise de projetos\n\n### 11.4 Repositório\n\nTodo o código está versionado com Git, com commits descritivos e organização clara da estrutura de pastas.\n\n---\n\n**Desenvolvido por**: [Seu Nome]  \n**Data**: Outubro 2025  \n**Contexto**: Teste avaliativo para vaga de bolsista em Engenharia/Análise de Dados"
  }
 ],
 "metadata": {
  "kernelspec": {
   "display_name": "Python 3 (ipykernel)",
   "language": "python",
   "name": "python3"
  },
  "language_info": {
   "codemirror_mode": {
    "name": "ipython",
    "version": 3
   },
   "file_extension": ".py",
   "mimetype": "text/x-python",
   "name": "python",
   "nbconvert_exporter": "python",
   "pygments_lexer": "ipython3",
   "version": "3.11.14"
  }
 },
 "nbformat": 4,
 "nbformat_minor": 4
}